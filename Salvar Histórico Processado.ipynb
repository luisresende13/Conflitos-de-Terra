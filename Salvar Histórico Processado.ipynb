{
 "cells": [
  {
   "cell_type": "code",
   "execution_count": null,
   "id": "d5c80cc1-309c-476a-b23a-e00e598c00a6",
   "metadata": {},
   "outputs": [],
   "source": []
  },
  {
   "cell_type": "markdown",
   "id": "3aa48267-1f08-4d5c-b5fb-8a6032647aa2",
   "metadata": {},
   "source": [
    "---"
   ]
  },
  {
   "cell_type": "markdown",
   "id": "c0278b63-c66c-431f-956e-471ef6e6d69b",
   "metadata": {},
   "source": [
    "#### Importar módulos"
   ]
  },
  {
   "cell_type": "code",
   "execution_count": 6,
   "id": "551c5751-06eb-45af-bd7b-5516ac2472de",
   "metadata": {
    "tags": []
   },
   "outputs": [],
   "source": [
    "import pandas as pd\n",
    "import seaborn as sns\n",
    "sns.set()"
   ]
  },
  {
   "cell_type": "markdown",
   "id": "6c127a66-5b9e-4e33-a186-5d5578c2bf5c",
   "metadata": {},
   "source": [
    "#### Recarregar histórico de conflitos finalizado"
   ]
  },
  {
   "cell_type": "code",
   "execution_count": 7,
   "id": "e89fd027-c395-41fa-9a5e-724255095ad7",
   "metadata": {
    "tags": []
   },
   "outputs": [],
   "source": [
    "history = pd.read_excel('Resultados/histórico-conflitos-atualizado.xlsx')"
   ]
  },
  {
   "cell_type": "markdown",
   "id": "bc6ce10e-781d-464e-bcfb-ceda82ba63b8",
   "metadata": {},
   "source": [
    "---\n",
    "## Conflitos de terra em cidades de fronteira"
   ]
  },
  {
   "cell_type": "markdown",
   "id": "bbae019a-d9e9-4b34-981a-6284772c375b",
   "metadata": {},
   "source": [
    "Contagems e proporções territoriais para o período de 2000 à 2021"
   ]
  },
  {
   "cell_type": "markdown",
   "id": "d4ad06ed-3a98-490e-ad6a-ffad53526ab8",
   "metadata": {},
   "source": [
    "### Pré-processamento"
   ]
  },
  {
   "cell_type": "markdown",
   "id": "f117d96f-ffde-4781-b4eb-4a12ab71ec38",
   "metadata": {},
   "source": [
    "#### Formatar campo de identidade do município"
   ]
  },
  {
   "cell_type": "code",
   "execution_count": 3,
   "id": "ba934598-a818-4d6f-afd3-939d3f8acc12",
   "metadata": {
    "tags": []
   },
   "outputs": [],
   "source": [
    "history['ID'] = history['MUN'] + ' - ' + history['UF']"
   ]
  },
  {
   "cell_type": "markdown",
   "id": "421121bc-7753-4c6b-be77-a370d186400b",
   "metadata": {},
   "source": [
    "#### Calcular total de conflitos por cidade"
   ]
  },
  {
   "cell_type": "code",
   "execution_count": 8,
   "id": "e185640c-324f-4aab-a5f0-c4cda2b6e97a",
   "metadata": {
    "tags": []
   },
   "outputs": [],
   "source": [
    "# Listar colunas com contagems por ano\n",
    "year_columns = list(filter(lambda col: '20' in col, history.columns))\n",
    "\n",
    "# Somar colunas com contagems por ano\n",
    "history['TOTAL'] = history[year_columns].sum(axis=1)"
   ]
  },
  {
   "cell_type": "markdown",
   "id": "ba97f789-28ab-4f14-9787-668224e2a974",
   "metadata": {},
   "source": [
    "#### Calcular total de conflitos por cidade por década"
   ]
  },
  {
   "cell_type": "code",
   "execution_count": 14,
   "id": "beafa340-833f-492b-87b5-e4a5222d9f63",
   "metadata": {},
   "outputs": [
    {
     "data": {
      "text/plain": [
       "['CONF2000',\n",
       " 'CONF2001',\n",
       " 'CONF2002',\n",
       " 'CONF2003',\n",
       " 'CONF2004',\n",
       " 'CONF2005',\n",
       " 'CONF2006',\n",
       " 'CONF2007',\n",
       " 'CONF2008',\n",
       " 'CONF2009',\n",
       " 'CONF2010',\n",
       " 'CONF2011',\n",
       " 'CONF2012',\n",
       " 'CONF2013',\n",
       " 'CONF2014',\n",
       " 'CONF2015',\n",
       " 'CONF2016',\n",
       " 'CONF2017',\n",
       " 'CONF2018',\n",
       " 'CONF2019',\n",
       " 'CONF2020',\n",
       " 'CONF2021']"
      ]
     },
     "execution_count": 14,
     "metadata": {},
     "output_type": "execute_result"
    }
   ],
   "source": [
    "year_columns"
   ]
  },
  {
   "cell_type": "code",
   "execution_count": 8,
   "id": "c57d0d79-4e13-442c-bddc-8c8836cdcd92",
   "metadata": {
    "tags": []
   },
   "outputs": [],
   "source": [
    "# Listar colunas com contagems por ano\n",
    "year_columns = list(filter(lambda col: '20' in col, history.columns))\n",
    "\n",
    "# Somar colunas com contagems por ano\n",
    "history['TOTAL'] = history[year_columns].sum(axis=1)"
   ]
  },
  {
   "cell_type": "markdown",
   "id": "a2cbe7d4-da44-4a42-a8df-a98bd32a0d92",
   "metadata": {},
   "source": [
    "#### Criar coluna para o arco regional ao qual o estado do município pertence"
   ]
  },
  {
   "cell_type": "code",
   "execution_count": 9,
   "id": "d36934a6-f13c-4955-a4b6-8142b4c9cf4e",
   "metadata": {},
   "outputs": [],
   "source": [
    "# Mapeamento de arcos por estado\n",
    "arcos = {\n",
    "    'RS': \"SUL\",\n",
    "    'SC': \"SUL\",\n",
    "    'PR': \"SUL\",\n",
    "    'MS': \"CENTRO\",\n",
    "    'MT': \"CENTRO\",\n",
    "    'PR': \"CENTRO\",\n",
    "    'AC': 'NORTE',\n",
    "    'RO': 'NORTE',\n",
    "    'RR': 'NORTE',\n",
    "    'PA': 'NORTE',\n",
    "    'AP': 'NORTE',\n",
    "    'AM': 'NORTE',\n",
    "}\n",
    "\n",
    "# Criar coluna de `arco` ao qual o município pertence\n",
    "history['ARCO'] = history['UF'].map(arcos)"
   ]
  },
  {
   "cell_type": "markdown",
   "id": "d017759e-cf94-4bcb-b1ca-2288079a6798",
   "metadata": {},
   "source": [
    "#### Display processed data"
   ]
  },
  {
   "cell_type": "code",
   "execution_count": 10,
   "id": "974a83e6-89a2-4d09-bdc4-2297e0a30f7c",
   "metadata": {},
   "outputs": [
    {
     "name": "stdout",
     "output_type": "stream",
     "text": [
      "Index(['id', 'CUGN', 'CUGT', 'MUN', 'UF', 'FF', 'FFSITGEO', 'FRONTEIRA',\n",
      "       'MAPA DE CONFLITOS', 'RECORRENCIA-10', 'RECORRENCIA-5', 'RECORRENCIA-1',\n",
      "       'CONF2000', 'CONF2001', 'CONF2002', 'CONF2003', 'CONF2004', 'CONF2005',\n",
      "       'CONF2006', 'CONF2007', 'CONF2008', 'CONF2009', 'CONF2010', 'CONF2011',\n",
      "       'CONF2012', 'CONF2013', 'CONF2014', 'CONF2015', 'CONF2016', 'CONF2017',\n",
      "       'CONF2018', 'CONF2019', 'CONF2020', 'CONF2021', 'TOTAL', 'ARCO'],\n",
      "      dtype='object')\n"
     ]
    },
    {
     "data": {
      "text/html": [
       "<div>\n",
       "<style scoped>\n",
       "    .dataframe tbody tr th:only-of-type {\n",
       "        vertical-align: middle;\n",
       "    }\n",
       "\n",
       "    .dataframe tbody tr th {\n",
       "        vertical-align: top;\n",
       "    }\n",
       "\n",
       "    .dataframe thead th {\n",
       "        text-align: right;\n",
       "    }\n",
       "</style>\n",
       "<table border=\"1\" class=\"dataframe\">\n",
       "  <thead>\n",
       "    <tr style=\"text-align: right;\">\n",
       "      <th></th>\n",
       "      <th>id</th>\n",
       "      <th>CUGN</th>\n",
       "      <th>CUGT</th>\n",
       "      <th>MUN</th>\n",
       "      <th>UF</th>\n",
       "      <th>FF</th>\n",
       "      <th>FFSITGEO</th>\n",
       "      <th>FRONTEIRA</th>\n",
       "      <th>MAPA DE CONFLITOS</th>\n",
       "      <th>RECORRENCIA-10</th>\n",
       "      <th>...</th>\n",
       "      <th>CONF2014</th>\n",
       "      <th>CONF2015</th>\n",
       "      <th>CONF2016</th>\n",
       "      <th>CONF2017</th>\n",
       "      <th>CONF2018</th>\n",
       "      <th>CONF2019</th>\n",
       "      <th>CONF2020</th>\n",
       "      <th>CONF2021</th>\n",
       "      <th>TOTAL</th>\n",
       "      <th>ARCO</th>\n",
       "    </tr>\n",
       "  </thead>\n",
       "  <tbody>\n",
       "    <tr>\n",
       "      <th>0</th>\n",
       "      <td>alta floresta d'oeste - ro</td>\n",
       "      <td>1100015</td>\n",
       "      <td>1100015</td>\n",
       "      <td>Alta Floresta D'Oeste</td>\n",
       "      <td>RO</td>\n",
       "      <td>1</td>\n",
       "      <td>2</td>\n",
       "      <td>1</td>\n",
       "      <td>3</td>\n",
       "      <td>PERMANENTE</td>\n",
       "      <td>...</td>\n",
       "      <td>1</td>\n",
       "      <td>2</td>\n",
       "      <td>4</td>\n",
       "      <td>3</td>\n",
       "      <td>1</td>\n",
       "      <td>1</td>\n",
       "      <td>8</td>\n",
       "      <td>1</td>\n",
       "      <td>40</td>\n",
       "      <td>NORTE</td>\n",
       "    </tr>\n",
       "    <tr>\n",
       "      <th>1</th>\n",
       "      <td>ariquemes - ro</td>\n",
       "      <td>1100023</td>\n",
       "      <td>1100023</td>\n",
       "      <td>Ariquemes</td>\n",
       "      <td>RO</td>\n",
       "      <td>0</td>\n",
       "      <td>0</td>\n",
       "      <td>0</td>\n",
       "      <td>1</td>\n",
       "      <td>ESTABILIZADO</td>\n",
       "      <td>...</td>\n",
       "      <td>3</td>\n",
       "      <td>1</td>\n",
       "      <td>0</td>\n",
       "      <td>0</td>\n",
       "      <td>1</td>\n",
       "      <td>0</td>\n",
       "      <td>1</td>\n",
       "      <td>1</td>\n",
       "      <td>26</td>\n",
       "      <td>NORTE</td>\n",
       "    </tr>\n",
       "    <tr>\n",
       "      <th>2</th>\n",
       "      <td>cabixi - ro</td>\n",
       "      <td>1100031</td>\n",
       "      <td>1100031</td>\n",
       "      <td>Cabixi</td>\n",
       "      <td>RO</td>\n",
       "      <td>1</td>\n",
       "      <td>2</td>\n",
       "      <td>1</td>\n",
       "      <td>0</td>\n",
       "      <td>POUCOS CONFLITOS</td>\n",
       "      <td>...</td>\n",
       "      <td>0</td>\n",
       "      <td>0</td>\n",
       "      <td>2</td>\n",
       "      <td>1</td>\n",
       "      <td>0</td>\n",
       "      <td>0</td>\n",
       "      <td>0</td>\n",
       "      <td>0</td>\n",
       "      <td>4</td>\n",
       "      <td>NORTE</td>\n",
       "    </tr>\n",
       "    <tr>\n",
       "      <th>3</th>\n",
       "      <td>cerejeiras - ro</td>\n",
       "      <td>1100056</td>\n",
       "      <td>1100056</td>\n",
       "      <td>Cerejeiras</td>\n",
       "      <td>RO</td>\n",
       "      <td>1</td>\n",
       "      <td>3</td>\n",
       "      <td>0</td>\n",
       "      <td>0</td>\n",
       "      <td>POUCOS CONFLITOS</td>\n",
       "      <td>...</td>\n",
       "      <td>1</td>\n",
       "      <td>0</td>\n",
       "      <td>1</td>\n",
       "      <td>0</td>\n",
       "      <td>0</td>\n",
       "      <td>1</td>\n",
       "      <td>0</td>\n",
       "      <td>0</td>\n",
       "      <td>4</td>\n",
       "      <td>NORTE</td>\n",
       "    </tr>\n",
       "    <tr>\n",
       "      <th>4</th>\n",
       "      <td>corumbiara - ro</td>\n",
       "      <td>1100072</td>\n",
       "      <td>1100072</td>\n",
       "      <td>Corumbiara</td>\n",
       "      <td>RO</td>\n",
       "      <td>1</td>\n",
       "      <td>3</td>\n",
       "      <td>0</td>\n",
       "      <td>0</td>\n",
       "      <td>POUCOS CONFLITOS</td>\n",
       "      <td>...</td>\n",
       "      <td>2</td>\n",
       "      <td>0</td>\n",
       "      <td>0</td>\n",
       "      <td>0</td>\n",
       "      <td>0</td>\n",
       "      <td>0</td>\n",
       "      <td>1</td>\n",
       "      <td>0</td>\n",
       "      <td>10</td>\n",
       "      <td>NORTE</td>\n",
       "    </tr>\n",
       "  </tbody>\n",
       "</table>\n",
       "<p>5 rows × 36 columns</p>\n",
       "</div>"
      ],
      "text/plain": [
       "                           id     CUGN     CUGT                    MUN  UF  \\\n",
       "0  alta floresta d'oeste - ro  1100015  1100015  Alta Floresta D'Oeste  RO   \n",
       "1              ariquemes - ro  1100023  1100023              Ariquemes  RO   \n",
       "2                 cabixi - ro  1100031  1100031                 Cabixi  RO   \n",
       "3             cerejeiras - ro  1100056  1100056             Cerejeiras  RO   \n",
       "4             corumbiara - ro  1100072  1100072             Corumbiara  RO   \n",
       "\n",
       "   FF  FFSITGEO  FRONTEIRA  MAPA DE CONFLITOS    RECORRENCIA-10  ... CONF2014  \\\n",
       "0   1         2          1                  3        PERMANENTE  ...        1   \n",
       "1   0         0          0                  1      ESTABILIZADO  ...        3   \n",
       "2   1         2          1                  0  POUCOS CONFLITOS  ...        0   \n",
       "3   1         3          0                  0  POUCOS CONFLITOS  ...        1   \n",
       "4   1         3          0                  0  POUCOS CONFLITOS  ...        2   \n",
       "\n",
       "  CONF2015  CONF2016  CONF2017  CONF2018  CONF2019  CONF2020  CONF2021  TOTAL  \\\n",
       "0        2         4         3         1         1         8         1     40   \n",
       "1        1         0         0         1         0         1         1     26   \n",
       "2        0         2         1         0         0         0         0      4   \n",
       "3        0         1         0         0         1         0         0      4   \n",
       "4        0         0         0         0         0         1         0     10   \n",
       "\n",
       "    ARCO  \n",
       "0  NORTE  \n",
       "1  NORTE  \n",
       "2  NORTE  \n",
       "3  NORTE  \n",
       "4  NORTE  \n",
       "\n",
       "[5 rows x 36 columns]"
      ]
     },
     "metadata": {},
     "output_type": "display_data"
    }
   ],
   "source": [
    "print(history.columns)\n",
    "display(history.head())"
   ]
  },
  {
   "cell_type": "markdown",
   "id": "985318ed-b5e6-43a6-8301-cf018f23d4bd",
   "metadata": {},
   "source": [
    "---\n",
    "## Gerar arquivo shape com dados + geometria de cada município"
   ]
  },
  {
   "cell_type": "markdown",
   "id": "f0b1f9fb-ecc8-4321-a547-6e67ac85b2d5",
   "metadata": {},
   "source": [
    "#### Carregar arquivo shape com geometria de municípios do Brasil como dataframe pandas"
   ]
  },
  {
   "cell_type": "code",
   "execution_count": 11,
   "id": "9bf6595f-1af9-4fa6-9908-f1bb4e90f42b",
   "metadata": {
    "tags": []
   },
   "outputs": [],
   "source": [
    "# !pip install geopandas\n",
    "\n",
    "import geopandas as gpd\n",
    "\n",
    "# Replace 'input_shapefile.shp' with the path to your shapefile\n",
    "shapefile_path = 'Dados/BR_Municipios_2021.zip'\n",
    "\n",
    "# Read the shapefile using geopandas\n",
    "geo_df = gpd.read_file(shapefile_path)\n",
    "\n",
    "# Convert the geo-dataframe to regular dataframe\n",
    "cities = pd.DataFrame(geo_df)"
   ]
  },
  {
   "cell_type": "markdown",
   "id": "90e55874-7335-4c48-9f33-c9437fe25ffa",
   "metadata": {},
   "source": [
    "#### Criar campo `id` representando cidades únicas da tabela de geometria de municípios"
   ]
  },
  {
   "cell_type": "code",
   "execution_count": 12,
   "id": "132eb378-fc17-47b6-9357-c2d10f171822",
   "metadata": {
    "tags": []
   },
   "outputs": [],
   "source": [
    "cities['id'] = cities['NM_MUN'].str.strip().str.lower() + ' - ' + cities['SIGLA'].str.strip().str.lower()"
   ]
  },
  {
   "cell_type": "markdown",
   "id": "8a231892-71b7-4894-b220-8b89dd64c93f",
   "metadata": {},
   "source": [
    "#### Cruzar colunas de geometria e área"
   ]
  },
  {
   "cell_type": "code",
   "execution_count": 13,
   "id": "ad1ef524-dc98-474a-a12f-992fb9327317",
   "metadata": {
    "tags": []
   },
   "outputs": [],
   "source": [
    "history_shape = cities[['id', 'AREA_KM2', 'geometry']].join(history.set_index('id'), on='id', how='inner')"
   ]
  },
  {
   "cell_type": "markdown",
   "id": "b6482b4f-d0fb-4017-a979-39d4c15090ab",
   "metadata": {},
   "source": [
    "---\n",
    "## Salvar arquivo shape com dados e geometrias"
   ]
  },
  {
   "cell_type": "markdown",
   "id": "ddabe738-d6df-4e26-97b2-8718159596c7",
   "metadata": {},
   "source": [
    "#### Salvar arquivos shape para compressão a partir da tabela finalizada"
   ]
  },
  {
   "cell_type": "code",
   "execution_count": 29,
   "id": "a2c0d03c-2011-498b-a8a8-f73f4deff401",
   "metadata": {
    "tags": []
   },
   "outputs": [
    {
     "name": "stderr",
     "output_type": "stream",
     "text": [
      "C:\\Users\\luisr\\AppData\\Local\\Temp\\ipykernel_28840\\1100762217.py:14: UserWarning: Column names longer than 10 characters will be truncated when saved to ESRI Shapefile.\n",
      "  gdf.to_file(shapefile_output_path, driver='ESRI Shapefile')\n"
     ]
    }
   ],
   "source": [
    "import geopandas as gpd\n",
    "from shapely.wkt import loads\n",
    "\n",
    "# # Replace 'geometry' with the actual name of your geometry column\n",
    "# history_shape['geometry'] = history_shape['geometry'].apply(loads)\n",
    "\n",
    "# Now, convert the DataFrame to a GeoDataFrame\n",
    "gdf = gpd.GeoDataFrame(history_shape, geometry='geometry')\n",
    "\n",
    "# Replace 'output_shapefile.shp' with the desired output shapefile path\n",
    "shapefile_output_path = f'Resultados/histórico_conflitos_atualizado_shape.shp'\n",
    "\n",
    "# Save the GeoDataFrame to a shapefile\n",
    "gdf.to_file(shapefile_output_path, driver='ESRI Shapefile')"
   ]
  },
  {
   "cell_type": "markdown",
   "id": "45d992cd-d9f6-461b-b17b-bfe8e97aae21",
   "metadata": {},
   "source": [
    "#### Comprimir arquivos em arquivo shape zip final"
   ]
  },
  {
   "cell_type": "code",
   "execution_count": 35,
   "id": "fb20f0e1-c67c-41cc-a677-125ab8a1e2fb",
   "metadata": {
    "tags": []
   },
   "outputs": [],
   "source": [
    "import os\n",
    "import zipfile\n",
    "\n",
    "output_folder = 'Resultados'\n",
    "base_shape_name = 'histórico_conflitos_atualizado_shape'\n",
    "base_shape_path = f'{output_folder}/{base_shape_name}'\n",
    "output_zip_path = f'{base_shape_path}.zip'\n",
    "\n",
    "# List of filenames to include in the ZIP archive\n",
    "selected_files = [filename for filename in os.listdir(output_folder) if base_shape_name in filename]\n",
    "\n",
    "with zipfile.ZipFile(output_zip_path, 'w') as zipf:\n",
    "    for file in selected_files:\n",
    "        file_path = os.path.join(output_folder, file)\n",
    "        arcname = os.path.basename(file)  # Use only the filename in the archive\n",
    "        zipf.write(file_path, arcname=arcname)\n"
   ]
  },
  {
   "cell_type": "markdown",
   "id": "6df726ee-dcca-45b3-bd99-77ac07d6d8f1",
   "metadata": {},
   "source": [
    "#### Deletar arquivos provisórios"
   ]
  },
  {
   "cell_type": "code",
   "execution_count": 37,
   "id": "3047d10a-dcb8-47d3-84c2-cf9796a8a6e2",
   "metadata": {
    "tags": []
   },
   "outputs": [
    {
     "name": "stdout",
     "output_type": "stream",
     "text": [
      "Deleted: Resultados/histórico_conflitos_atualizado_shape.cpg\n",
      "Deleted: Resultados/histórico_conflitos_atualizado_shape.dbf\n",
      "Deleted: Resultados/histórico_conflitos_atualizado_shape.prj\n",
      "Deleted: Resultados/histórico_conflitos_atualizado_shape.shp\n",
      "Deleted: Resultados/histórico_conflitos_atualizado_shape.shx\n"
     ]
    }
   ],
   "source": [
    "import os\n",
    "\n",
    "# List of files to delete\n",
    "files_to_delete = [f'{output_folder}/{filename}' for filename in selected_files]\n",
    "\n",
    "# Loop through the files and delete each one\n",
    "for file_path in files_to_delete:\n",
    "    try:\n",
    "        os.remove(file_path)  # Delete the file\n",
    "        print(f\"Deleted: {file_path}\")\n",
    "    except OSError as e:\n",
    "        print(f\"Error deleting {file_path}: {e}\")\n"
   ]
  }
 ],
 "metadata": {
  "kernelspec": {
   "display_name": "Python 3 (ipykernel)",
   "language": "python",
   "name": "python3"
  },
  "language_info": {
   "codemirror_mode": {
    "name": "ipython",
    "version": 3
   },
   "file_extension": ".py",
   "mimetype": "text/x-python",
   "name": "python",
   "nbconvert_exporter": "python",
   "pygments_lexer": "ipython3",
   "version": "3.11.3"
  }
 },
 "nbformat": 4,
 "nbformat_minor": 5
}
