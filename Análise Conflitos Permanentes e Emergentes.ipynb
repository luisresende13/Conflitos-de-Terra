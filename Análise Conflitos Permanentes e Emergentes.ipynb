{
 "cells": [
  {
   "cell_type": "markdown",
   "id": "34a09465-6134-4097-92b0-5d7462227c45",
   "metadata": {},
   "source": [
    "## Análise de conflitos de terra permanentes e emergentes em cidades de fronteira do Brasil"
   ]
  },
  {
   "cell_type": "code",
   "execution_count": 27,
   "id": "18f9e6de-3639-4a88-93f7-b5e1a11eb76f",
   "metadata": {},
   "outputs": [],
   "source": [
    "import pandas as pd\n",
    "import numpy as np"
   ]
  },
  {
   "cell_type": "markdown",
   "id": "041cb399-d2c6-4851-bbff-debe1ded5a27",
   "metadata": {},
   "source": [
    "#### Recarregar histórico de conflitos finalizado"
   ]
  },
  {
   "cell_type": "code",
   "execution_count": 3,
   "id": "e8fe354b-51a8-453b-b50c-524a3f3a8b9d",
   "metadata": {
    "tags": []
   },
   "outputs": [],
   "source": [
    "history = pd.read_excel('Resultados/histórico-conflitos-atualizado.xlsx')"
   ]
  },
  {
   "cell_type": "markdown",
   "id": "c191d400-e075-4c2b-ba71-9b7094dd3d59",
   "metadata": {},
   "source": [
    "#### Extrair série temporal por cidade"
   ]
  },
  {
   "cell_type": "code",
   "execution_count": 116,
   "id": "9c8f14b5-4cba-4253-a076-53a66b224b1a",
   "metadata": {},
   "outputs": [],
   "source": [
    "ts = history.set_index('id')[[\n",
    "    'CONF2000', 'CONF2001', 'CONF2002', 'CONF2003', 'CONF2004', 'CONF2005',\n",
    "    'CONF2006', 'CONF2007', 'CONF2008', 'CONF2009', 'CONF2010', 'CONF2011',\n",
    "    'CONF2012', 'CONF2013', 'CONF2014', 'CONF2015', 'CONF2016', 'CONF2017',\n",
    "    'CONF2018', 'CONF2019', 'CONF2020', 'CONF2021'\n",
    "]]\n",
    "\n",
    "ts.columns = [int(col[4:]) for col in ts.columns]"
   ]
  },
  {
   "cell_type": "markdown",
   "id": "10744939-ef63-4b56-be75-d11c67acd660",
   "metadata": {},
   "source": [
    "#### Contagem de cidades"
   ]
  },
  {
   "cell_type": "code",
   "execution_count": 117,
   "id": "de1388bf-e7d1-4299-a5da-856b461cb114",
   "metadata": {},
   "outputs": [
    {
     "name": "stdout",
     "output_type": "stream",
     "text": [
      "Cidades: 237\n"
     ]
    }
   ],
   "source": [
    "print('Cidades:', len(history))"
   ]
  },
  {
   "cell_type": "markdown",
   "id": "095ba341-26ab-4826-abbf-6fff0dbe8d03",
   "metadata": {},
   "source": [
    "#### Cidade com conflitos na primeira década (2000 - 2010)"
   ]
  },
  {
   "cell_type": "code",
   "execution_count": 119,
   "id": "c7c194bf-4273-4780-8821-a8a8f76f7efe",
   "metadata": {},
   "outputs": [
    {
     "data": {
      "image/png": "[encoded data removed]",
      "text/plain": [
       "<Figure size 400x200 with 1 Axes>"
      ]
     },
     "metadata": {},
     "output_type": "display_data"
    }
   ],
   "source": [
    "until_2010 = ts.loc[:, :2011].sum(1)\n",
    "ax = until_2010[until_2010 != 0].hist(bins=np.arange(0, 101, 5), figsize=(4, 2))"
   ]
  },
  {
   "cell_type": "markdown",
   "id": "2f0a6fd9-76b3-4a23-ac01-d930954dbaad",
   "metadata": {},
   "source": [
    "#### Cidade com conflitos a partir da segunda década (2011 - 2022)"
   ]
  },
  {
   "cell_type": "code",
   "execution_count": 120,
   "id": "e4cc66fa-fbe5-4759-80d4-412e3c27ad2e",
   "metadata": {},
   "outputs": [
    {
     "data": {
      "image/png": "[encoded data removed]",
      "text/plain": [
       "<Figure size 400x200 with 1 Axes>"
      ]
     },
     "metadata": {},
     "output_type": "display_data"
    }
   ],
   "source": [
    "from_2011 = ts.loc[:, 2011:].sum(1)\n",
    "ax = from_2011[from_2011 != 0].hist(bins=np.arange(0, 101, 5), figsize=(4, 2))"
   ]
  },
  {
   "cell_type": "markdown",
   "id": "9d837ecf-f096-4c0b-aff4-1ae4fdf26303",
   "metadata": {},
   "source": [
    "#### Fução para criar campos na tabela para representar a recorrência dos conflitos por município"
   ]
  },
  {
   "cell_type": "code",
   "execution_count": 171,
   "id": "a6d0766f-f861-4918-b921-ec2cae3585ec",
   "metadata": {},
   "outputs": [],
   "source": [
    "def recurrence(_ids, permanent, emergent, finished):\n",
    "    categories = []\n",
    "    \n",
    "    for _id in _ids:\n",
    "        if _id in permanent:\n",
    "            categories.append(\"PERMANENTE\")\n",
    "        elif _id in emergent:\n",
    "            categories.append(\"EMERGENTE\")\n",
    "        elif _id in finished:\n",
    "            categories.append(\"ESTABILIZADO\")\n",
    "        else:\n",
    "            categories.append(\"POUCOS CONFLITOS\")\n",
    "    \n",
    "    return categories\n",
    "\n",
    "def recurrence_analysis(df, year_middle=2011, min_conflicts=1):\n",
    "\n",
    "    ts = df.set_index('id')[[\n",
    "        'CONF2000', 'CONF2001', 'CONF2002', 'CONF2003', 'CONF2004', 'CONF2005',\n",
    "        'CONF2006', 'CONF2007', 'CONF2008', 'CONF2009', 'CONF2010', 'CONF2011',\n",
    "        'CONF2012', 'CONF2013', 'CONF2014', 'CONF2015', 'CONF2016', 'CONF2017',\n",
    "        'CONF2018', 'CONF2019', 'CONF2020', 'CONF2021'\n",
    "    ]]\n",
    "    \n",
    "    ts.columns = [int(col[4:]) for col in ts.columns]\n",
    "\n",
    "    until_year_middle = ts.loc[:, :year_middle].sum(1)\n",
    "    from_year_middle = ts.loc[:, year_middle:].sum(1)\n",
    "\n",
    "    first_decade = until_year_middle[until_year_middle > min_conflicts]\n",
    "    from_second_decade = from_year_middle[from_year_middle > min_conflicts]\n",
    "\n",
    "    # print()\n",
    "    print(f'Municípios com mais de {min_conflicts} conflitos na primeira década:', first_decade.shape[0])\n",
    "    print(f'Municípios com mais de {min_conflicts} conflitos na segunda década:', from_second_decade.shape[0])\n",
    "\n",
    "    permanent = list(set(first_decade.index).intersection(from_second_decade.index))\n",
    "    emergent = list(set(from_second_decade.index).difference(first_decade.index))\n",
    "    finished = list(set(first_decade.index).difference(from_second_decade.index))\n",
    "\n",
    "    return permanent, emergent, finished"
   ]
  },
  {
   "cell_type": "markdown",
   "id": "2fb66981-3397-46b5-aaa0-7aa79307fada",
   "metadata": {},
   "source": [
    "#### Contagems de municípios com conflitos permanentes e emergentes"
   ]
  },
  {
   "cell_type": "code",
   "execution_count": 172,
   "id": "fdbf9f16-7a64-45f9-8850-433ddd11123f",
   "metadata": {},
   "outputs": [
    {
     "name": "stdout",
     "output_type": "stream",
     "text": [
      "10\n",
      "Municípios com mais de 10 conflitos na primeira década: 45\n",
      "Municípios com mais de 10 conflitos na segunda década: 88\n",
      "\n",
      "{'POUCOS CONFLITOS': 140, 'EMERGENTE': 52, 'PERMANENTE': 36, 'ESTABILIZADO': 9}\n",
      "\n",
      "5\n",
      "Municípios com mais de 5 conflitos na primeira década: 84\n",
      "Municípios com mais de 5 conflitos na segunda década: 130\n",
      "\n",
      "{'POUCOS CONFLITOS': 97, 'PERMANENTE': 74, 'EMERGENTE': 56, 'ESTABILIZADO': 10}\n",
      "\n",
      "1\n",
      "Municípios com mais de 1 conflitos na primeira década: 150\n",
      "Municípios com mais de 1 conflitos na segunda década: 211\n",
      "\n",
      "{'PERMANENTE': 139, 'EMERGENTE': 72, 'POUCOS CONFLITOS': 15, 'ESTABILIZADO': 11}\n",
      "\n"
     ]
    }
   ],
   "source": [
    "for min_conflicts in [10, 5, 1]:\n",
    "    print(min_conflicts)\n",
    "    permanent, emergent, finished = recurrence_analysis(history, year_middle=2011, min_conflicts=min_conflicts)\n",
    "    \n",
    "    history[f'RECORRENCIA-{min_conflicts}'] = recurrence(history['id'], permanent, emergent, finished)\n",
    "    \n",
    "    print()\n",
    "    print(history[f'RECORRENCIA-{min_conflicts}'].value_counts().to_dict())\n",
    "    print()\n",
    "    "
   ]
  }
 ],
 "metadata": {
  "kernelspec": {
   "display_name": "Python 3 (ipykernel)",
   "language": "python",
   "name": "python3"
  },
  "language_info": {
   "codemirror_mode": {
    "name": "ipython",
    "version": 3
   },
   "file_extension": ".py",
   "mimetype": "text/x-python",
   "name": "python",
   "nbconvert_exporter": "python",
   "pygments_lexer": "ipython3",
   "version": "3.11.3"
  }
 },
 "nbformat": 4,
 "nbformat_minor": 5
}
