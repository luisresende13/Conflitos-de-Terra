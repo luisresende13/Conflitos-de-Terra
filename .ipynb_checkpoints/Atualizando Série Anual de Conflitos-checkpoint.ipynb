{
 "cells": [
  {
   "cell_type": "markdown",
   "id": "df7677ff-f41f-46b0-afbb-171e5d90bc93",
   "metadata": {},
   "source": [
    "# Atualizando base nacional histórica de conflitos de terra"
   ]
  },
  {
   "cell_type": "markdown",
   "id": "b2ef5678-e5a2-4bbe-87de-ad338f66930a",
   "metadata": {},
   "source": [
    "#### Importar módulos"
   ]
  },
  {
   "cell_type": "code",
   "execution_count": 27,
   "id": "f7fbe95e-6f22-4449-9bc7-4c7e39e45316",
   "metadata": {
    "tags": []
   },
   "outputs": [],
   "source": [
    "import pandas as pd\n",
    "import numpy as np"
   ]
  },
  {
   "cell_type": "markdown",
   "id": "cd047949-f62f-4ef3-b83d-9e7e0760495c",
   "metadata": {},
   "source": [
    "---\n",
    "## Carregar tabelas"
   ]
  },
  {
   "cell_type": "markdown",
   "id": "f1f5b023-dfcf-44d9-950b-6a4f003417fc",
   "metadata": {},
   "source": [
    "#### Conflitos de terra por ano (BASELENTO) após limpeza (2000-2011)"
   ]
  },
  {
   "cell_type": "code",
   "execution_count": 28,
   "id": "2985fc7f-37d9-41c9-8bdd-0a2c29fc0bf4",
   "metadata": {
    "tags": []
   },
   "outputs": [],
   "source": [
    "baselento = pd.read_excel('Resultados/baselento-ter-anual.xlsx', index_col=0)"
   ]
  },
  {
   "cell_type": "markdown",
   "id": "33540c24-f8f5-45b1-8be3-8e8647803422",
   "metadata": {},
   "source": [
    "#### Conflitos de terra por ano (CPT) após limpeza (2011-2021)"
   ]
  },
  {
   "cell_type": "code",
   "execution_count": 29,
   "id": "c988945c-0862-438f-b803-efe831b79332",
   "metadata": {
    "tags": []
   },
   "outputs": [],
   "source": [
    "cpt = pd.read_excel('Resultados/cpt-ter-anual.xlsx')"
   ]
  },
  {
   "cell_type": "markdown",
   "id": "56f07ee6-45e7-4bba-a4cf-fb684b809ec7",
   "metadata": {},
   "source": [
    "#### Cidades fronteiriças do Brasil após limpeza (Wikipédia)"
   ]
  },
  {
   "cell_type": "code",
   "execution_count": 30,
   "id": "09becce7-d291-4640-94b4-43725e822d56",
   "metadata": {
    "tags": []
   },
   "outputs": [],
   "source": [
    "fronteira = pd.read_excel('Resultados/fronteira-wiki.xlsx')"
   ]
  },
  {
   "cell_type": "markdown",
   "id": "6938fdf5-1e46-46e3-828d-3239f092127b",
   "metadata": {},
   "source": [
    "#### Mapa de conflitos envolvendo injustiça ambiental e saúde no Brasil após limpeza"
   ]
  },
  {
   "cell_type": "code",
   "execution_count": 31,
   "id": "dd1e74ae-060d-473a-b9d5-564e233b873e",
   "metadata": {
    "tags": []
   },
   "outputs": [],
   "source": [
    "mapa = pd.read_excel('Resultados/conflitos-injustiça-ambiental-e-saúde.xlsx')"
   ]
  },
  {
   "cell_type": "markdown",
   "id": "26cdf3bc-b50c-4d28-8b9e-586a78297e30",
   "metadata": {},
   "source": [
    "---\n",
    "## Cruzando tabelas com séries anuais de conflitos de terra (BASELENTO e CPT)"
   ]
  },
  {
   "cell_type": "markdown",
   "id": "f2a3457b-9af4-44a2-b562-d7b665ba927a",
   "metadata": {},
   "source": [
    "#### Formatar nomes de colunas de ano para compatibilizar com padrão do CPT"
   ]
  },
  {
   "cell_type": "code",
   "execution_count": 32,
   "id": "cb8f4eff-9436-4d9f-b736-a8cfd02fd3ae",
   "metadata": {
    "tags": []
   },
   "outputs": [],
   "source": [
    "# Criar cópia para não alterar o original\n",
    "baselento_copy = baselento.copy()\n",
    "\n",
    "# Adicionar `CONF` ao início dos nomes das colunas\n",
    "baselento_copy.columns = 'CONF' + baselento.columns.astype(str)"
   ]
  },
  {
   "cell_type": "markdown",
   "id": "a565b3e8-b8ef-4b66-bbac-627702a6aca5",
   "metadata": {},
   "source": [
    "#### Excluir coluna com ano de 2011 da tabela cpt (mais antiga) "
   ]
  },
  {
   "cell_type": "code",
   "execution_count": 33,
   "id": "6d2653f3-ac17-4d25-a041-1f198161936d",
   "metadata": {
    "tags": []
   },
   "outputs": [],
   "source": [
    "cpt_copy = cpt.copy()\n",
    "\n",
    "cpt_copy.drop('CONF2011', axis=1, inplace=True)"
   ]
  },
  {
   "cell_type": "markdown",
   "id": "a7fcded7-ebba-484f-a614-8d98c0d393e0",
   "metadata": {},
   "source": [
    "#### Criar campo `id` na tabela cpt associando cidades e estados para obter cidades unicas"
   ]
  },
  {
   "cell_type": "code",
   "execution_count": 34,
   "id": "ccdf6903-2581-4106-9b1d-dcda6dacaeb0",
   "metadata": {
    "tags": []
   },
   "outputs": [],
   "source": [
    "cpt_copy['id'] = cpt_copy['MUN'].str.strip().str.lower() + ' - ' + cpt_copy['UF'].str.strip().str.lower()"
   ]
  },
  {
   "cell_type": "markdown",
   "id": "40eb6366-37f3-4baf-b3e8-2636460e3c65",
   "metadata": {},
   "source": [
    "#### Cruzar tabelas BASELENTO e CPT com base em coluna `ìd` de cidades unicas"
   ]
  },
  {
   "cell_type": "code",
   "execution_count": 35,
   "id": "51f0df84-ad45-40fa-a360-da6775175f68",
   "metadata": {
    "tags": []
   },
   "outputs": [
    {
     "data": {
      "text/plain": [
       "(237, 29)"
      ]
     },
     "execution_count": 35,
     "metadata": {},
     "output_type": "execute_result"
    }
   ],
   "source": [
    "history = cpt_copy.join(baselento_copy.astype(int), how='inner', on='id')\n",
    "\n",
    "history.shape"
   ]
  },
  {
   "cell_type": "markdown",
   "id": "60d09cda-57d1-45a6-bf55-e9487fc9fdfa",
   "metadata": {},
   "source": [
    "Obs: Duas cidades da tabela BASELENTO não estão presentes na tabela CPT"
   ]
  },
  {
   "cell_type": "markdown",
   "id": "59fec0f9-cfaa-48a0-8229-a4fa975c8b50",
   "metadata": {},
   "source": [
    "---\n",
    "## Adicionar campo representando cidades fronteiriças"
   ]
  },
  {
   "cell_type": "markdown",
   "id": "a7927f86-26f8-49d5-af8f-3db16ac9b7e3",
   "metadata": {},
   "source": [
    "#### Adicionar campo `id` à tabela de cidades fronteiriças representando cidades únicas"
   ]
  },
  {
   "cell_type": "code",
   "execution_count": 36,
   "id": "a98b4919-02a2-430b-873e-91938bf57b12",
   "metadata": {
    "tags": []
   },
   "outputs": [],
   "source": [
    "fronteira['id'] = fronteira['Município'].str.strip().str.lower() + ' - ' + fronteira['UF'].str.strip().str.lower()"
   ]
  },
  {
   "cell_type": "markdown",
   "id": "8e0b3937-1bb7-4896-9bc1-1d4059f79042",
   "metadata": {},
   "source": [
    "#### Criar campo `Fronteira` baseado no cruzamento da coluna `id`"
   ]
  },
  {
   "cell_type": "code",
   "execution_count": 37,
   "id": "f57b7d05-b8bf-4aae-9ff8-be181dbdc222",
   "metadata": {
    "tags": []
   },
   "outputs": [
    {
     "data": {
      "text/html": [
       "<div>\n",
       "<style scoped>\n",
       "    .dataframe tbody tr th:only-of-type {\n",
       "        vertical-align: middle;\n",
       "    }\n",
       "\n",
       "    .dataframe tbody tr th {\n",
       "        vertical-align: top;\n",
       "    }\n",
       "\n",
       "    .dataframe thead th {\n",
       "        text-align: right;\n",
       "    }\n",
       "</style>\n",
       "<table border=\"1\" class=\"dataframe\">\n",
       "  <thead>\n",
       "    <tr style=\"text-align: right;\">\n",
       "      <th></th>\n",
       "      <th>MUN</th>\n",
       "      <th>FRONTEIRA</th>\n",
       "    </tr>\n",
       "  </thead>\n",
       "  <tbody>\n",
       "    <tr>\n",
       "      <th>0</th>\n",
       "      <td>Alta Floresta D'Oeste</td>\n",
       "      <td>1</td>\n",
       "    </tr>\n",
       "    <tr>\n",
       "      <th>1</th>\n",
       "      <td>Ariquemes</td>\n",
       "      <td>0</td>\n",
       "    </tr>\n",
       "    <tr>\n",
       "      <th>2</th>\n",
       "      <td>Cabixi</td>\n",
       "      <td>1</td>\n",
       "    </tr>\n",
       "    <tr>\n",
       "      <th>4</th>\n",
       "      <td>Cerejeiras</td>\n",
       "      <td>0</td>\n",
       "    </tr>\n",
       "    <tr>\n",
       "      <th>6</th>\n",
       "      <td>Corumbiara</td>\n",
       "      <td>0</td>\n",
       "    </tr>\n",
       "  </tbody>\n",
       "</table>\n",
       "</div>"
      ],
      "text/plain": [
       "                     MUN  FRONTEIRA\n",
       "0  Alta Floresta D'Oeste          1\n",
       "1              Ariquemes          0\n",
       "2                 Cabixi          1\n",
       "4             Cerejeiras          0\n",
       "6             Corumbiara          0"
      ]
     },
     "execution_count": 37,
     "metadata": {},
     "output_type": "execute_result"
    }
   ],
   "source": [
    "history['FRONTEIRA'] = history['id'].isin(fronteira['id']).astype(int)\n",
    "\n",
    "history[['MUN', 'FRONTEIRA']].head(5)"
   ]
  },
  {
   "cell_type": "markdown",
   "id": "01826792-a18b-4b63-8756-ccb26d51fb00",
   "metadata": {},
   "source": [
    "---\n",
    "## Adicionar campo com contagems do mapa de conflitos de injustiça ambiental e saúde do Brasil "
   ]
  },
  {
   "cell_type": "markdown",
   "id": "20e18fbd-c7a0-4b35-86f9-0a029dd56838",
   "metadata": {},
   "source": [
    "#### Criar campo `id` à tabela do mapa de conflitos representando cidades únicas"
   ]
  },
  {
   "cell_type": "code",
   "execution_count": 38,
   "id": "0cf5d325-7cbc-42ab-bbed-d66ffd1f3747",
   "metadata": {
    "tags": []
   },
   "outputs": [],
   "source": [
    "mapa['id'] = mapa['Município'].str.strip().str.lower() + ' - ' + mapa['UF'].str.strip().str.lower()"
   ]
  },
  {
   "cell_type": "markdown",
   "id": "0017d0f5-70c2-4a4d-ad02-cb758b61c093",
   "metadata": {},
   "source": [
    "#### Contagem de registros por cidade (Mapa de Conflitos)"
   ]
  },
  {
   "cell_type": "code",
   "execution_count": 39,
   "id": "82d42120-f901-41b6-bf9d-17b26cf9fd79",
   "metadata": {
    "tags": []
   },
   "outputs": [
    {
     "data": {
      "text/html": [
       "<div>\n",
       "<style scoped>\n",
       "    .dataframe tbody tr th:only-of-type {\n",
       "        vertical-align: middle;\n",
       "    }\n",
       "\n",
       "    .dataframe tbody tr th {\n",
       "        vertical-align: top;\n",
       "    }\n",
       "\n",
       "    .dataframe thead th {\n",
       "        text-align: right;\n",
       "    }\n",
       "</style>\n",
       "<table border=\"1\" class=\"dataframe\">\n",
       "  <thead>\n",
       "    <tr style=\"text-align: right;\">\n",
       "      <th></th>\n",
       "      <th>MAPA DE CONFLITOS</th>\n",
       "    </tr>\n",
       "    <tr>\n",
       "      <th>id</th>\n",
       "      <th></th>\n",
       "    </tr>\n",
       "  </thead>\n",
       "  <tbody>\n",
       "    <tr>\n",
       "      <th>são paulo - sp</th>\n",
       "      <td>18</td>\n",
       "    </tr>\n",
       "    <tr>\n",
       "      <th>rio de janeiro - rj</th>\n",
       "      <td>13</td>\n",
       "    </tr>\n",
       "    <tr>\n",
       "      <th>porto alegre - rs</th>\n",
       "      <td>6</td>\n",
       "    </tr>\n",
       "    <tr>\n",
       "      <th>recife - pe</th>\n",
       "      <td>5</td>\n",
       "    </tr>\n",
       "    <tr>\n",
       "      <th>santarém - pa</th>\n",
       "      <td>4</td>\n",
       "    </tr>\n",
       "  </tbody>\n",
       "</table>\n",
       "</div>"
      ],
      "text/plain": [
       "                     MAPA DE CONFLITOS\n",
       "id                                    \n",
       "são paulo - sp                      18\n",
       "rio de janeiro - rj                 13\n",
       "porto alegre - rs                    6\n",
       "recife - pe                          5\n",
       "santarém - pa                        4"
      ]
     },
     "execution_count": 39,
     "metadata": {},
     "output_type": "execute_result"
    }
   ],
   "source": [
    "mapa_contagem = mapa['id'].value_counts().to_frame('MAPA DE CONFLITOS')\n",
    "\n",
    "mapa_contagem.head(5)"
   ]
  },
  {
   "cell_type": "markdown",
   "id": "841e0b54-865a-45d0-b9af-cfa489550b2b",
   "metadata": {},
   "source": [
    "#### Incluir coluna para contagem de conflitos do Mapa de Conflitos"
   ]
  },
  {
   "cell_type": "code",
   "execution_count": 40,
   "id": "733c1746-7170-479d-9c0c-c065021b6520",
   "metadata": {
    "tags": []
   },
   "outputs": [],
   "source": [
    "history_expanded = history.join(mapa_contagem, how='outer', on='id')"
   ]
  },
  {
   "cell_type": "markdown",
   "id": "dbd27043-8444-4df9-a02c-607ed8bd0f20",
   "metadata": {},
   "source": [
    "#### Excluir cidades que não estão presentes na tabela combinada"
   ]
  },
  {
   "cell_type": "code",
   "execution_count": 41,
   "id": "7f0de51c-7bf8-4da6-8df1-054488ba5313",
   "metadata": {},
   "outputs": [],
   "source": [
    "history_expanded = history_expanded[history_expanded['id'].isin(history['id'])]"
   ]
  },
  {
   "cell_type": "markdown",
   "id": "b8097ad6-f417-428a-9e8b-0cba9cbd2700",
   "metadata": {},
   "source": [
    "#### Prencher células vazias com zero na coluna"
   ]
  },
  {
   "cell_type": "code",
   "execution_count": 42,
   "id": "227e0c05-01ca-4b4d-a29d-d5e0bfc5c3e5",
   "metadata": {},
   "outputs": [],
   "source": [
    "history_expanded['MAPA DE CONFLITOS'] = history_expanded['MAPA DE CONFLITOS'].fillna(0)"
   ]
  },
  {
   "cell_type": "markdown",
   "id": "3697625f-c6b0-4c92-9802-4cbf475c94ac",
   "metadata": {},
   "source": [
    "#### Converter coluna para tipo inteiro"
   ]
  },
  {
   "cell_type": "code",
   "execution_count": 43,
   "id": "74935e3e-e273-45b8-834e-f879dc569eff",
   "metadata": {},
   "outputs": [],
   "source": [
    "history_expanded['MAPA DE CONFLITOS'] = history_expanded['MAPA DE CONFLITOS'].astype(int)"
   ]
  },
  {
   "cell_type": "markdown",
   "id": "dfa5d464-0f1c-457b-944a-be319dce7aaf",
   "metadata": {},
   "source": [
    "---"
   ]
  },
  {
   "cell_type": "markdown",
   "id": "552d012e-2728-492c-a79d-e7ef10534e4d",
   "metadata": {},
   "source": [
    "## Criar campos na tabela para representar a recorrência dos conflitos por município"
   ]
  },
  {
   "cell_type": "code",
   "execution_count": 44,
   "id": "7b0d8967-fc2d-41ff-adf3-b401a984289d",
   "metadata": {},
   "outputs": [],
   "source": [
    "def recurrence(_ids, permanent, emergent, finished, null):\n",
    "    categories = []\n",
    "    \n",
    "    for _id in _ids:\n",
    "        if _id in permanent:\n",
    "            categories.append(\"PERMANENTE\")\n",
    "        elif _id in emergent:\n",
    "            categories.append(\"EMERGENTE\")\n",
    "        elif _id in finished:\n",
    "            categories.append(\"DESCENDENTE\")\n",
    "        elif _id in null:\n",
    "            categories.append(\"INEXISTENTE\")\n",
    "        else:\n",
    "            categories.append(\"INTERMITENTE\")\n",
    "    \n",
    "    return categories\n",
    "\n",
    "def recurrence_analysis(df, year_middle=2010, min_conflicts=1):\n",
    "\n",
    "    ts = df.set_index('id')[[\n",
    "        'CONF2000', 'CONF2001', 'CONF2002', 'CONF2003', 'CONF2004', 'CONF2005',\n",
    "        'CONF2006', 'CONF2007', 'CONF2008', 'CONF2009', 'CONF2010', 'CONF2011',\n",
    "        'CONF2012', 'CONF2013', 'CONF2014', 'CONF2015', 'CONF2016', 'CONF2017',\n",
    "        'CONF2018', 'CONF2019', 'CONF2020', 'CONF2021'\n",
    "    ]]\n",
    "    \n",
    "    ts.columns = [int(col[4:]) for col in ts.columns]\n",
    "\n",
    "    until_year_middle = ts.loc[:, :year_middle].sum(1)\n",
    "    from_year_middle = ts.loc[:, year_middle + 1:].sum(1)\n",
    "    \n",
    "    first_decade = until_year_middle[until_year_middle >= min_conflicts]\n",
    "    from_second_decade = from_year_middle[from_year_middle >= min_conflicts]\n",
    "\n",
    "    # print()\n",
    "    print(f'Municípios com mais de {min_conflicts} conflitos na primeira década:', first_decade.shape[0])\n",
    "    print(f'Municípios com mais de {min_conflicts} conflitos na segunda década:', from_second_decade.shape[0])\n",
    "\n",
    "    permanent = list(set(first_decade.index).intersection(from_second_decade.index))\n",
    "    emergent = list(set(from_second_decade.index).difference(first_decade.index))\n",
    "    finished = list(set(first_decade.index).difference(from_second_decade.index))\n",
    "    # left = list(set(ts.index).difference(permanent).difference(emergent).difference(finished))\n",
    "    null = list(ts.index[ts.sum(1) == 0])\n",
    "    \n",
    "    return permanent, emergent, finished, null"
   ]
  },
  {
   "cell_type": "markdown",
   "id": "48def5a3-6403-4022-a6be-c6ed423c2254",
   "metadata": {},
   "source": [
    "#### Contagens de municípios com conflitos permanentes e emergentes"
   ]
  },
  {
   "cell_type": "code",
   "execution_count": 45,
   "id": "14dafee0-50bc-451b-b899-897fd2bd07e5",
   "metadata": {},
   "outputs": [
    {
     "name": "stdout",
     "output_type": "stream",
     "text": [
      "Municípios com mais de 15 conflitos na primeira década: 20\n",
      "Municípios com mais de 15 conflitos na segunda década: 75\n",
      "\n",
      "{'DESCENDENTE': 6, 'EMERGENTE': 61, 'INTERMITENTE': 156, 'PERMANENTE': 14}\n",
      "\n",
      "Municípios com mais de 10 conflitos na primeira década: 34\n",
      "Municípios com mais de 10 conflitos na segunda década: 98\n",
      "\n",
      "{'DESCENDENTE': 6, 'EMERGENTE': 70, 'INTERMITENTE': 133, 'PERMANENTE': 28}\n",
      "\n",
      "Municípios com mais de 5 conflitos na primeira década: 79\n",
      "Municípios com mais de 5 conflitos na segunda década: 134\n",
      "\n",
      "{'DESCENDENTE': 16, 'EMERGENTE': 71, 'INTERMITENTE': 87, 'PERMANENTE': 63}\n",
      "\n",
      "Municípios com mais de 1 conflitos na primeira década: 170\n",
      "Municípios com mais de 1 conflitos na segunda década: 237\n",
      "\n",
      "{'EMERGENTE': 67, 'PERMANENTE': 170}\n",
      "\n"
     ]
    }
   ],
   "source": [
    "for min_conflicts in [15, 10, 5, 1]:\n",
    "    permanent, emergent, finished, null = recurrence_analysis(history_expanded, year_middle=2010, min_conflicts=min_conflicts)\n",
    "    \n",
    "    history_expanded[f'RECORRENCIA-{min_conflicts}'] = recurrence(history_expanded['id'], permanent, emergent, finished, null)\n",
    "    \n",
    "    print()\n",
    "    print(history_expanded[f'RECORRENCIA-{min_conflicts}'].value_counts().sort_index().to_dict())\n",
    "    print()"
   ]
  },
  {
   "cell_type": "markdown",
   "id": "49d78d84-e62e-4d78-a713-c4c48e19fdbf",
   "metadata": {},
   "source": [
    "#### Calcular conflitos por cidade por década"
   ]
  },
  {
   "cell_type": "code",
   "execution_count": 46,
   "id": "9d1b3010-f790-4f54-93e3-04b47efab56a",
   "metadata": {
    "tags": []
   },
   "outputs": [],
   "source": [
    "# Somar colunas com contagems por ano\n",
    "history_expanded['TOTAL 2000-2010'] = history_expanded[[\n",
    "    'CONF2000', 'CONF2001', 'CONF2002', 'CONF2003', 'CONF2004', 'CONF2005',\n",
    "    'CONF2006', 'CONF2007', 'CONF2008', 'CONF2009', 'CONF2010'\n",
    "]].sum(axis=1)\n",
    "\n",
    "history_expanded['TOTAL 2011-2021'] = history_expanded[[\n",
    "    'CONF2011', 'CONF2012', 'CONF2013', 'CONF2014', 'CONF2015', 'CONF2016',\n",
    "    'CONF2017', 'CONF2018', 'CONF2019', 'CONF2020', 'CONF2021'\n",
    "]].sum(axis=1)\n",
    "\n",
    "\n",
    "# Somar colunas com contagems por ano\n",
    "history_expanded['TOTAL 2000-2011'] = history_expanded[[\n",
    "    'CONF2000', 'CONF2001', 'CONF2002', 'CONF2003', 'CONF2004', 'CONF2005',\n",
    "    'CONF2006', 'CONF2007', 'CONF2008', 'CONF2009', 'CONF2010', 'CONF2011'\n",
    "]].sum(axis=1)\n",
    "\n",
    "history_expanded['TOTAL 2012-2021'] = history_expanded[[\n",
    "    'CONF2012', 'CONF2013', 'CONF2014', 'CONF2015', 'CONF2016',\n",
    "    'CONF2017', 'CONF2018', 'CONF2019', 'CONF2020', 'CONF2021'\n",
    "]].sum(axis=1)\n"
   ]
  },
  {
   "cell_type": "markdown",
   "id": "8eaeb433-c975-470e-99fe-b28822959192",
   "metadata": {},
   "source": [
    "#### Calcular total de conflitos por cidade"
   ]
  },
  {
   "cell_type": "code",
   "execution_count": 47,
   "id": "e6e7e42a-83ea-463f-8cbd-3f0b066d4ff0",
   "metadata": {
    "tags": []
   },
   "outputs": [],
   "source": [
    "# Listar colunas com contagems por ano\n",
    "year_columns = [\n",
    "    'CONF2000', 'CONF2001', 'CONF2002', 'CONF2003', 'CONF2004', 'CONF2005',\n",
    "    'CONF2006', 'CONF2007', 'CONF2008', 'CONF2009', 'CONF2010', 'CONF2011',\n",
    "    'CONF2012', 'CONF2013', 'CONF2014', 'CONF2015', 'CONF2016', 'CONF2017',\n",
    "    'CONF2018', 'CONF2019', 'CONF2020', 'CONF2021'\n",
    "]\n",
    "\n",
    "# Somar colunas com contagems por ano\n",
    "history_expanded['TOTAL'] = history_expanded[year_columns].sum(axis=1)"
   ]
  },
  {
   "cell_type": "markdown",
   "id": "c4f0fc42-a9ea-4252-af3d-36412a4096f5",
   "metadata": {},
   "source": [
    "#### Criar coluna para o arco regional ao qual o estado do município pertence"
   ]
  },
  {
   "cell_type": "code",
   "execution_count": 48,
   "id": "38c89d09-c851-4158-8a82-bbce437280c1",
   "metadata": {},
   "outputs": [],
   "source": [
    "# Mapeamento de arcos por estado\n",
    "arcos = {\n",
    "    'RS': \"SUL\",\n",
    "    'SC': \"SUL\",\n",
    "    'PR': \"SUL\",\n",
    "    'MS': \"CENTRO\",\n",
    "    'MT': \"CENTRO\",\n",
    "    'PR': \"CENTRO\",\n",
    "    'AC': 'NORTE',\n",
    "    'RO': 'NORTE',\n",
    "    'RR': 'NORTE',\n",
    "    'PA': 'NORTE',\n",
    "    'AP': 'NORTE',\n",
    "    'AM': 'NORTE',\n",
    "}\n",
    "\n",
    "# Criar coluna de `arco` ao qual o município pertence\n",
    "history_expanded['ARCO'] = history_expanded['UF'].map(arcos)"
   ]
  },
  {
   "cell_type": "markdown",
   "id": "591e0f1a-9de7-4e3a-9e61-76c7537b1b13",
   "metadata": {},
   "source": [
    "---\n",
    "## Salvar tabela finalizada"
   ]
  },
  {
   "cell_type": "markdown",
   "id": "daee4b8c-5027-474c-9981-8238eb69365b",
   "metadata": {},
   "source": [
    "#### Reordenar colunas"
   ]
  },
  {
   "cell_type": "code",
   "execution_count": 49,
   "id": "643513ce-7792-4135-adb4-bedf95e76ab0",
   "metadata": {
    "tags": []
   },
   "outputs": [],
   "source": [
    "columns_order = [\n",
    "    'id', 'CUGN', 'CUGT', 'MUN', 'UF', 'ARCO', 'FF', 'FFSITGEO', 'FRONTEIRA', 'MAPA DE CONFLITOS',\n",
    "    'TOTAL 2000-2010', 'TOTAL 2011-2021', 'TOTAL 2000-2011', 'TOTAL 2012-2021', 'TOTAL',\n",
    "    'RECORRENCIA-15', 'RECORRENCIA-10', 'RECORRENCIA-5', 'RECORRENCIA-1',\n",
    "    'CONF2000', 'CONF2001', 'CONF2002', 'CONF2003', 'CONF2004', 'CONF2005',\n",
    "    'CONF2006', 'CONF2007', 'CONF2008', 'CONF2009', 'CONF2010', 'CONF2011',\n",
    "    'CONF2012', 'CONF2013', 'CONF2014', 'CONF2015', 'CONF2016', 'CONF2017',\n",
    "    'CONF2018', 'CONF2019', 'CONF2020', 'CONF2021'\n",
    "]\n",
    "\n",
    "history_expanded = history_expanded[columns_order]"
   ]
  },
  {
   "cell_type": "markdown",
   "id": "ccad4bf8-3f49-4bc8-a64b-66e412af599a",
   "metadata": {},
   "source": [
    "#### Renomear colunas"
   ]
  },
  {
   "cell_type": "code",
   "execution_count": 50,
   "id": "80f8a45d-887b-43f6-8a29-a8b7f47f1eb6",
   "metadata": {},
   "outputs": [
    {
     "name": "stdout",
     "output_type": "stream",
     "text": [
      "RENAMING COLUMNS: {'MAPA DE CONFLITOS': 'MAPA_DE_CONFLITOS', 'TOTAL 2000-2010': 'TOTAL_2000_2010', 'TOTAL 2011-2021': 'TOTAL_2011_2021', 'TOTAL 2000-2011': 'TOTAL_2000_2011', 'TOTAL 2012-2021': 'TOTAL_2012_2021', 'RECORRENCIA-15': 'RECORRENCIA_15', 'RECORRENCIA-10': 'RECORRENCIA_10', 'RECORRENCIA-5': 'RECORRENCIA_5', 'RECORRENCIA-1': 'RECORRENCIA_1'}\n"
     ]
    },
    {
     "data": {
      "text/plain": [
       "Index(['id', 'CUGN', 'CUGT', 'MUN', 'UF', 'ARCO', 'FF', 'FFSITGEO',\n",
       "       'FRONTEIRA', 'MAPA_DE_CONFLITOS', 'TOTAL_2000_2010', 'TOTAL_2011_2021',\n",
       "       'TOTAL_2000_2011', 'TOTAL_2012_2021', 'TOTAL', 'RECORRENCIA_15',\n",
       "       'RECORRENCIA_10', 'RECORRENCIA_5', 'RECORRENCIA_1', 'CONF2000',\n",
       "       'CONF2001', 'CONF2002', 'CONF2003', 'CONF2004', 'CONF2005', 'CONF2006',\n",
       "       'CONF2007', 'CONF2008', 'CONF2009', 'CONF2010', 'CONF2011', 'CONF2012',\n",
       "       'CONF2013', 'CONF2014', 'CONF2015', 'CONF2016', 'CONF2017', 'CONF2018',\n",
       "       'CONF2019', 'CONF2020', 'CONF2021'],\n",
       "      dtype='object')"
      ]
     },
     "execution_count": 50,
     "metadata": {},
     "output_type": "execute_result"
    }
   ],
   "source": [
    "columns_rename = {col: col.replace('-', '_').replace(' ', '_') for col in columns_order if '-' in col or ' ' in col}\n",
    "\n",
    "print('RENAMING COLUMNS:', columns_rename)\n",
    "history_expanded = history_expanded.rename(columns=columns_rename)\n",
    "\n",
    "history_expanded.columns"
   ]
  },
  {
   "cell_type": "markdown",
   "id": "98a5f66f-ca84-4964-8860-207d6ab65d80",
   "metadata": {},
   "source": [
    "#### Salvar como excel e csv"
   ]
  },
  {
   "cell_type": "code",
   "execution_count": 51,
   "id": "74296d00-ce0b-4d61-ab5b-40a7c0e2b975",
   "metadata": {
    "tags": []
   },
   "outputs": [
    {
     "data": {
      "text/html": [
       "<div>\n",
       "<style scoped>\n",
       "    .dataframe tbody tr th:only-of-type {\n",
       "        vertical-align: middle;\n",
       "    }\n",
       "\n",
       "    .dataframe tbody tr th {\n",
       "        vertical-align: top;\n",
       "    }\n",
       "\n",
       "    .dataframe thead th {\n",
       "        text-align: right;\n",
       "    }\n",
       "</style>\n",
       "<table border=\"1\" class=\"dataframe\">\n",
       "  <thead>\n",
       "    <tr style=\"text-align: right;\">\n",
       "      <th></th>\n",
       "      <th>id</th>\n",
       "      <th>CUGN</th>\n",
       "      <th>CUGT</th>\n",
       "      <th>MUN</th>\n",
       "      <th>UF</th>\n",
       "      <th>ARCO</th>\n",
       "      <th>FF</th>\n",
       "      <th>FFSITGEO</th>\n",
       "      <th>FRONTEIRA</th>\n",
       "      <th>MAPA_DE_CONFLITOS</th>\n",
       "      <th>...</th>\n",
       "      <th>CONF2012</th>\n",
       "      <th>CONF2013</th>\n",
       "      <th>CONF2014</th>\n",
       "      <th>CONF2015</th>\n",
       "      <th>CONF2016</th>\n",
       "      <th>CONF2017</th>\n",
       "      <th>CONF2018</th>\n",
       "      <th>CONF2019</th>\n",
       "      <th>CONF2020</th>\n",
       "      <th>CONF2021</th>\n",
       "    </tr>\n",
       "  </thead>\n",
       "  <tbody>\n",
       "    <tr>\n",
       "      <th>0.0</th>\n",
       "      <td>alta floresta d'oeste - ro</td>\n",
       "      <td>1100015.0</td>\n",
       "      <td>1100015.0</td>\n",
       "      <td>Alta Floresta D'Oeste</td>\n",
       "      <td>RO</td>\n",
       "      <td>NORTE</td>\n",
       "      <td>1.0</td>\n",
       "      <td>2.0</td>\n",
       "      <td>1.0</td>\n",
       "      <td>3</td>\n",
       "      <td>...</td>\n",
       "      <td>4.0</td>\n",
       "      <td>0.0</td>\n",
       "      <td>1.0</td>\n",
       "      <td>2.0</td>\n",
       "      <td>4.0</td>\n",
       "      <td>3.0</td>\n",
       "      <td>1.0</td>\n",
       "      <td>1.0</td>\n",
       "      <td>8.0</td>\n",
       "      <td>1.0</td>\n",
       "    </tr>\n",
       "    <tr>\n",
       "      <th>1.0</th>\n",
       "      <td>ariquemes - ro</td>\n",
       "      <td>1100023.0</td>\n",
       "      <td>1100023.0</td>\n",
       "      <td>Ariquemes</td>\n",
       "      <td>RO</td>\n",
       "      <td>NORTE</td>\n",
       "      <td>0.0</td>\n",
       "      <td>0.0</td>\n",
       "      <td>0.0</td>\n",
       "      <td>1</td>\n",
       "      <td>...</td>\n",
       "      <td>0.0</td>\n",
       "      <td>0.0</td>\n",
       "      <td>3.0</td>\n",
       "      <td>1.0</td>\n",
       "      <td>0.0</td>\n",
       "      <td>0.0</td>\n",
       "      <td>1.0</td>\n",
       "      <td>0.0</td>\n",
       "      <td>1.0</td>\n",
       "      <td>1.0</td>\n",
       "    </tr>\n",
       "    <tr>\n",
       "      <th>2.0</th>\n",
       "      <td>cabixi - ro</td>\n",
       "      <td>1100031.0</td>\n",
       "      <td>1100031.0</td>\n",
       "      <td>Cabixi</td>\n",
       "      <td>RO</td>\n",
       "      <td>NORTE</td>\n",
       "      <td>1.0</td>\n",
       "      <td>2.0</td>\n",
       "      <td>1.0</td>\n",
       "      <td>0</td>\n",
       "      <td>...</td>\n",
       "      <td>0.0</td>\n",
       "      <td>0.0</td>\n",
       "      <td>0.0</td>\n",
       "      <td>0.0</td>\n",
       "      <td>2.0</td>\n",
       "      <td>1.0</td>\n",
       "      <td>0.0</td>\n",
       "      <td>0.0</td>\n",
       "      <td>0.0</td>\n",
       "      <td>0.0</td>\n",
       "    </tr>\n",
       "    <tr>\n",
       "      <th>4.0</th>\n",
       "      <td>cerejeiras - ro</td>\n",
       "      <td>1100056.0</td>\n",
       "      <td>1100056.0</td>\n",
       "      <td>Cerejeiras</td>\n",
       "      <td>RO</td>\n",
       "      <td>NORTE</td>\n",
       "      <td>1.0</td>\n",
       "      <td>3.0</td>\n",
       "      <td>0.0</td>\n",
       "      <td>0</td>\n",
       "      <td>...</td>\n",
       "      <td>0.0</td>\n",
       "      <td>0.0</td>\n",
       "      <td>1.0</td>\n",
       "      <td>0.0</td>\n",
       "      <td>1.0</td>\n",
       "      <td>0.0</td>\n",
       "      <td>0.0</td>\n",
       "      <td>1.0</td>\n",
       "      <td>0.0</td>\n",
       "      <td>0.0</td>\n",
       "    </tr>\n",
       "    <tr>\n",
       "      <th>6.0</th>\n",
       "      <td>corumbiara - ro</td>\n",
       "      <td>1100072.0</td>\n",
       "      <td>1100072.0</td>\n",
       "      <td>Corumbiara</td>\n",
       "      <td>RO</td>\n",
       "      <td>NORTE</td>\n",
       "      <td>1.0</td>\n",
       "      <td>3.0</td>\n",
       "      <td>0.0</td>\n",
       "      <td>0</td>\n",
       "      <td>...</td>\n",
       "      <td>0.0</td>\n",
       "      <td>0.0</td>\n",
       "      <td>2.0</td>\n",
       "      <td>0.0</td>\n",
       "      <td>0.0</td>\n",
       "      <td>0.0</td>\n",
       "      <td>0.0</td>\n",
       "      <td>0.0</td>\n",
       "      <td>1.0</td>\n",
       "      <td>0.0</td>\n",
       "    </tr>\n",
       "  </tbody>\n",
       "</table>\n",
       "<p>5 rows × 41 columns</p>\n",
       "</div>"
      ],
      "text/plain": [
       "                             id       CUGN       CUGT                    MUN  \\\n",
       "0.0  alta floresta d'oeste - ro  1100015.0  1100015.0  Alta Floresta D'Oeste   \n",
       "1.0              ariquemes - ro  1100023.0  1100023.0              Ariquemes   \n",
       "2.0                 cabixi - ro  1100031.0  1100031.0                 Cabixi   \n",
       "4.0             cerejeiras - ro  1100056.0  1100056.0             Cerejeiras   \n",
       "6.0             corumbiara - ro  1100072.0  1100072.0             Corumbiara   \n",
       "\n",
       "     UF   ARCO   FF  FFSITGEO  FRONTEIRA  MAPA_DE_CONFLITOS  ...  CONF2012  \\\n",
       "0.0  RO  NORTE  1.0       2.0        1.0                  3  ...       4.0   \n",
       "1.0  RO  NORTE  0.0       0.0        0.0                  1  ...       0.0   \n",
       "2.0  RO  NORTE  1.0       2.0        1.0                  0  ...       0.0   \n",
       "4.0  RO  NORTE  1.0       3.0        0.0                  0  ...       0.0   \n",
       "6.0  RO  NORTE  1.0       3.0        0.0                  0  ...       0.0   \n",
       "\n",
       "     CONF2013  CONF2014  CONF2015  CONF2016 CONF2017 CONF2018 CONF2019  \\\n",
       "0.0       0.0       1.0       2.0       4.0      3.0      1.0      1.0   \n",
       "1.0       0.0       3.0       1.0       0.0      0.0      1.0      0.0   \n",
       "2.0       0.0       0.0       0.0       2.0      1.0      0.0      0.0   \n",
       "4.0       0.0       1.0       0.0       1.0      0.0      0.0      1.0   \n",
       "6.0       0.0       2.0       0.0       0.0      0.0      0.0      0.0   \n",
       "\n",
       "    CONF2020  CONF2021  \n",
       "0.0      8.0       1.0  \n",
       "1.0      1.0       1.0  \n",
       "2.0      0.0       0.0  \n",
       "4.0      0.0       0.0  \n",
       "6.0      1.0       0.0  \n",
       "\n",
       "[5 rows x 41 columns]"
      ]
     },
     "metadata": {},
     "output_type": "display_data"
    },
    {
     "data": {
      "text/plain": [
       "(237, 41)"
      ]
     },
     "execution_count": 51,
     "metadata": {},
     "output_type": "execute_result"
    }
   ],
   "source": [
    "# history_expanded.to_csv('Resultados/histórico-conflitos-atualizado.xlsx', index=False)\n",
    "history_expanded.to_excel('Resultados/histórico-conflitos-atualizado.xlsx', index=False)\n",
    "\n",
    "display(history_expanded.head())\n",
    "history_expanded.shape"
   ]
  },
  {
   "cell_type": "markdown",
   "id": "0170c852-cf83-46e0-a855-2406f23983b5",
   "metadata": {},
   "source": [
    "---\n",
    "## Gerar arquivo shape com dados + geometria de cada município"
   ]
  },
  {
   "cell_type": "markdown",
   "id": "a060b552-db1c-46c8-9014-afcc3c371927",
   "metadata": {},
   "source": [
    "#### Recarregar histórico de conflitos finalizado"
   ]
  },
  {
   "cell_type": "code",
   "execution_count": 52,
   "id": "3baca13c-d0e9-4b1a-9dce-e97af239b32c",
   "metadata": {
    "tags": []
   },
   "outputs": [],
   "source": [
    "import pandas as pd\n",
    "\n",
    "history = pd.read_excel('Resultados/histórico-conflitos-atualizado.xlsx')\n",
    "history['id'] = history['id'].apply(unidecode)\n"
   ]
  },
  {
   "cell_type": "markdown",
   "id": "d2720080-0888-402e-adb8-e4a98ea75dcc",
   "metadata": {},
   "source": [
    "#### Carregar arquivo shape com geometria de municípios do Brasil como dataframe pandas"
   ]
  },
  {
   "cell_type": "code",
   "execution_count": 53,
   "id": "64969ee0-b04e-41f9-b4e4-96d8816e0c85",
   "metadata": {
    "tags": []
   },
   "outputs": [],
   "source": [
    "# !pip install geopandas\n",
    "\n",
    "import geopandas as gpd\n",
    "import pandas as pd\n",
    "\n",
    "# Replace 'input_shapefile.shp' with the path to your shapefile\n",
    "# shapefile_path = 'Dados/BR_Municipios_2021.zip'\n",
    "shapefile_path = 'Dados/Municipios_da_Faixa_de_Fronteira_2022.zip'\n",
    "\n",
    "# Read the shapefile using geopandas\n",
    "geo_df = gpd.read_file(shapefile_path)\n",
    "\n",
    "# Convert the geo-dataframe to regular dataframe\n",
    "cities = pd.DataFrame(geo_df)"
   ]
  },
  {
   "cell_type": "markdown",
   "id": "1e4e543b-de72-4c5e-8e8f-8cee82f96c11",
   "metadata": {},
   "source": [
    "#### Criar campo `id` representando cidades únicas da tabela de geometria de municípios"
   ]
  },
  {
   "cell_type": "code",
   "execution_count": 54,
   "id": "52954a13-f60b-47df-91d5-278bd47173a5",
   "metadata": {
    "tags": []
   },
   "outputs": [],
   "source": [
    "from unidecode import unidecode\n",
    "\n",
    "# cities['id'] = cities['NM_MUN'].str.strip().str.lower() + ' - ' + cities['SIGLA'].str.strip().str.lower()\n",
    "cities['id'] = cities['NM_MUN'].str.strip().str.lower() + ' - ' + cities['SIGLA_UF'].str.strip().str.lower()\n",
    "\n",
    "cities['id'] = cities['id'].apply(unidecode)"
   ]
  },
  {
   "cell_type": "markdown",
   "id": "ab935f65-8d48-4954-8b5f-e75cb32c6ce0",
   "metadata": {},
   "source": [
    "#### Cruzar colunas de geometria e área"
   ]
  },
  {
   "cell_type": "code",
   "execution_count": 55,
   "id": "3aa88922-ecdf-4330-aeb9-6a0c8fb68dc6",
   "metadata": {
    "tags": []
   },
   "outputs": [],
   "source": [
    "# history_shape = cities[['id', 'AREA_KM2', 'geometry']].join(history.set_index('id'), on='id', how='inner')\n",
    "history_shape = cities[['id', 'CD_MUN', 'AREA_TOT', 'geometry']].join(history.set_index('id'), on='id', how='left')"
   ]
  },
  {
   "cell_type": "markdown",
   "id": "ec785bf9-9c06-4310-a866-63a4d003d9c6",
   "metadata": {},
   "source": [
    "#### Preencher valores com zero para cidades não presentes na tabela base"
   ]
  },
  {
   "cell_type": "code",
   "execution_count": 60,
   "id": "83e9e839-7d62-4673-a69f-471a272803b3",
   "metadata": {},
   "outputs": [],
   "source": [
    "year_columns = [\n",
    "    'CONF2000', 'CONF2001', 'CONF2002', 'CONF2003', 'CONF2004', 'CONF2005',\n",
    "    'CONF2006', 'CONF2007', 'CONF2008', 'CONF2009', 'CONF2010', 'CONF2011',\n",
    "    'CONF2012', 'CONF2013', 'CONF2014', 'CONF2015', 'CONF2016', 'CONF2017',\n",
    "    'CONF2018', 'CONF2019', 'CONF2020', 'CONF2021',\n",
    "    'TOTAL_2000_2010', 'TOTAL_2011_2021', 'TOTAL_2000_2011', 'TOTAL_2012_2021'\n",
    "]\n",
    "\n",
    "category_columns = ['RECORRENCIA_15', 'RECORRENCIA_10', 'RECORRENCIA_5', 'RECORRENCIA_1']\n",
    "\n",
    "not_present = ~history_shape['id'].isin(history['id'])\n",
    "history_shape.loc[not_present, year_columns] = 0.0\n",
    "history_shape.loc[not_present, category_columns] = 'INEXISTENTE'"
   ]
  },
  {
   "cell_type": "markdown",
   "id": "03efa26d-1e7e-4334-a817-06cbacbc01f7",
   "metadata": {},
   "source": [
    "#### Verificar valores de cidades não presentes na tabela base"
   ]
  },
  {
   "cell_type": "code",
   "execution_count": 57,
   "id": "7f97c34a-890a-459d-a23c-573ceafae397",
   "metadata": {},
   "outputs": [
    {
     "data": {
      "text/html": [
       "<div>\n",
       "<style scoped>\n",
       "    .dataframe tbody tr th:only-of-type {\n",
       "        vertical-align: middle;\n",
       "    }\n",
       "\n",
       "    .dataframe tbody tr th {\n",
       "        vertical-align: top;\n",
       "    }\n",
       "\n",
       "    .dataframe thead th {\n",
       "        text-align: right;\n",
       "    }\n",
       "</style>\n",
       "<table border=\"1\" class=\"dataframe\">\n",
       "  <thead>\n",
       "    <tr style=\"text-align: right;\">\n",
       "      <th></th>\n",
       "      <th>id</th>\n",
       "      <th>CD_MUN</th>\n",
       "      <th>AREA_TOT</th>\n",
       "      <th>geometry</th>\n",
       "      <th>CUGN</th>\n",
       "      <th>CUGT</th>\n",
       "      <th>MUN</th>\n",
       "      <th>UF</th>\n",
       "      <th>ARCO</th>\n",
       "      <th>FF</th>\n",
       "      <th>...</th>\n",
       "      <th>CONF2012</th>\n",
       "      <th>CONF2013</th>\n",
       "      <th>CONF2014</th>\n",
       "      <th>CONF2015</th>\n",
       "      <th>CONF2016</th>\n",
       "      <th>CONF2017</th>\n",
       "      <th>CONF2018</th>\n",
       "      <th>CONF2019</th>\n",
       "      <th>CONF2020</th>\n",
       "      <th>CONF2021</th>\n",
       "    </tr>\n",
       "  </thead>\n",
       "  <tbody>\n",
       "    <tr>\n",
       "      <th>3</th>\n",
       "      <td>colorado do oeste - ro</td>\n",
       "      <td>1100064</td>\n",
       "      <td>1451.060</td>\n",
       "      <td>POLYGON ((-60.38605 -13.08309, -60.38338 -13.0...</td>\n",
       "      <td>NaN</td>\n",
       "      <td>NaN</td>\n",
       "      <td>NaN</td>\n",
       "      <td>NaN</td>\n",
       "      <td>NaN</td>\n",
       "      <td>NaN</td>\n",
       "      <td>...</td>\n",
       "      <td>0.0</td>\n",
       "      <td>0.0</td>\n",
       "      <td>0.0</td>\n",
       "      <td>0.0</td>\n",
       "      <td>0.0</td>\n",
       "      <td>0.0</td>\n",
       "      <td>0.0</td>\n",
       "      <td>0.0</td>\n",
       "      <td>0.0</td>\n",
       "      <td>0.0</td>\n",
       "    </tr>\n",
       "    <tr>\n",
       "      <th>11</th>\n",
       "      <td>santa luzia d'oeste - ro</td>\n",
       "      <td>1100296</td>\n",
       "      <td>1197.796</td>\n",
       "      <td>POLYGON ((-61.81651 -12.08787, -61.81662 -12.0...</td>\n",
       "      <td>NaN</td>\n",
       "      <td>NaN</td>\n",
       "      <td>NaN</td>\n",
       "      <td>NaN</td>\n",
       "      <td>NaN</td>\n",
       "      <td>NaN</td>\n",
       "      <td>...</td>\n",
       "      <td>0.0</td>\n",
       "      <td>0.0</td>\n",
       "      <td>0.0</td>\n",
       "      <td>0.0</td>\n",
       "      <td>0.0</td>\n",
       "      <td>0.0</td>\n",
       "      <td>0.0</td>\n",
       "      <td>0.0</td>\n",
       "      <td>0.0</td>\n",
       "      <td>0.0</td>\n",
       "    </tr>\n",
       "    <tr>\n",
       "      <th>18</th>\n",
       "      <td>novo horizonte do oeste - ro</td>\n",
       "      <td>1100502</td>\n",
       "      <td>843.446</td>\n",
       "      <td>POLYGON ((-61.97732 -11.74466, -61.98007 -11.7...</td>\n",
       "      <td>NaN</td>\n",
       "      <td>NaN</td>\n",
       "      <td>NaN</td>\n",
       "      <td>NaN</td>\n",
       "      <td>NaN</td>\n",
       "      <td>NaN</td>\n",
       "      <td>...</td>\n",
       "      <td>0.0</td>\n",
       "      <td>0.0</td>\n",
       "      <td>0.0</td>\n",
       "      <td>0.0</td>\n",
       "      <td>0.0</td>\n",
       "      <td>0.0</td>\n",
       "      <td>0.0</td>\n",
       "      <td>0.0</td>\n",
       "      <td>0.0</td>\n",
       "      <td>0.0</td>\n",
       "    </tr>\n",
       "  </tbody>\n",
       "</table>\n",
       "<p>3 rows × 44 columns</p>\n",
       "</div>"
      ],
      "text/plain": [
       "                              id   CD_MUN  AREA_TOT  \\\n",
       "3         colorado do oeste - ro  1100064  1451.060   \n",
       "11      santa luzia d'oeste - ro  1100296  1197.796   \n",
       "18  novo horizonte do oeste - ro  1100502   843.446   \n",
       "\n",
       "                                             geometry  CUGN  CUGT  MUN   UF  \\\n",
       "3   POLYGON ((-60.38605 -13.08309, -60.38338 -13.0...   NaN   NaN  NaN  NaN   \n",
       "11  POLYGON ((-61.81651 -12.08787, -61.81662 -12.0...   NaN   NaN  NaN  NaN   \n",
       "18  POLYGON ((-61.97732 -11.74466, -61.98007 -11.7...   NaN   NaN  NaN  NaN   \n",
       "\n",
       "   ARCO  FF  ...  CONF2012  CONF2013  CONF2014  CONF2015  CONF2016  CONF2017  \\\n",
       "3   NaN NaN  ...       0.0       0.0       0.0       0.0       0.0       0.0   \n",
       "11  NaN NaN  ...       0.0       0.0       0.0       0.0       0.0       0.0   \n",
       "18  NaN NaN  ...       0.0       0.0       0.0       0.0       0.0       0.0   \n",
       "\n",
       "    CONF2018  CONF2019 CONF2020 CONF2021  \n",
       "3        0.0       0.0      0.0      0.0  \n",
       "11       0.0       0.0      0.0      0.0  \n",
       "18       0.0       0.0      0.0      0.0  \n",
       "\n",
       "[3 rows x 44 columns]"
      ]
     },
     "execution_count": 57,
     "metadata": {},
     "output_type": "execute_result"
    }
   ],
   "source": [
    "history_shape[~history_shape['id'].isin(history['id'])].head(3)"
   ]
  },
  {
   "cell_type": "markdown",
   "id": "4dda7c3d-9128-4462-ba3d-c5f3b44b7bc6",
   "metadata": {},
   "source": [
    "#### Verificar quantidade de municípios resultantes"
   ]
  },
  {
   "cell_type": "code",
   "execution_count": 58,
   "id": "dad99929-444a-4d54-9f14-db15e29a8484",
   "metadata": {},
   "outputs": [
    {
     "name": "stdout",
     "output_type": "stream",
     "text": [
      "Municípios na tabela: 237\n",
      "Municípios no shape 590\n",
      "Municípios resultantes: 590\n",
      "Municípios não encontrados no shape: 19\n",
      "['ariquemes - ro', 'jaru - ro', 'alto paraiso - ro', 'cacaulandia - ro', 'cujubim - ro', 'mirante da serra - ro', 'monte negro - ro', 'eirunepe - am', 'fonte boa - am', 'manaus - am', 'nova olinda do norte - am', 'macapa - ap', 'porto grande - ap', 'cachoeira do sul - rs', 'santa maria - rs', 'campo grande - ms', 'campo novo do parecis - mt', 'colniza - mt', 'novo mundo - mt']\n"
     ]
    }
   ],
   "source": [
    "print('Municípios na tabela:', history.shape[0])\n",
    "print('Municípios no shape', cities.shape[0])\n",
    "print('Municípios resultantes:', history_shape.shape[0])\n",
    "\n",
    "not_found = history[~history['id'].isin(history_shape['id'])]['id']\n",
    "print('Municípios não encontrados no shape:', len(not_found))\n",
    "print(list(not_found))"
   ]
  },
  {
   "cell_type": "markdown",
   "id": "a675f526-46b6-4dc5-9584-fd71c38486f7",
   "metadata": {},
   "source": [
    "---\n",
    "## Salvar arquivo shape com dados e geometrias"
   ]
  },
  {
   "cell_type": "markdown",
   "id": "f5cbf0db-9657-4322-86cc-2dd622cd8a3a",
   "metadata": {},
   "source": [
    "#### Salvar arquivos shape para compressão a partir da tabela finalizada"
   ]
  },
  {
   "cell_type": "code",
   "execution_count": 20,
   "id": "dfd2c80b-3812-47ce-8697-26813ebe11e0",
   "metadata": {
    "tags": []
   },
   "outputs": [
    {
     "name": "stderr",
     "output_type": "stream",
     "text": [
      "C:\\Users\\luisr\\AppData\\Local\\Temp\\ipykernel_38800\\946363669.py:14: UserWarning: Column names longer than 10 characters will be truncated when saved to ESRI Shapefile.\n",
      "  gdf.to_file(shapefile_output_path, driver='ESRI Shapefile')\n",
      "C:\\Users\\luisr\\anaconda3\\Lib\\site-packages\\pyogrio\\raw.py:723: RuntimeWarning: Normalized/laundered field name: 'MAPA_DE_CONFLITOS' to 'MAPA_DE_CO'\n",
      "  ogr_write(\n",
      "C:\\Users\\luisr\\anaconda3\\Lib\\site-packages\\pyogrio\\raw.py:723: RuntimeWarning: Normalized/laundered field name: 'TOTAL_2000_2010' to 'TOTAL_2000'\n",
      "  ogr_write(\n",
      "C:\\Users\\luisr\\anaconda3\\Lib\\site-packages\\pyogrio\\raw.py:723: RuntimeWarning: Normalized/laundered field name: 'TOTAL_2011_2021' to 'TOTAL_2011'\n",
      "  ogr_write(\n",
      "C:\\Users\\luisr\\anaconda3\\Lib\\site-packages\\pyogrio\\raw.py:723: RuntimeWarning: Normalized/laundered field name: 'TOTAL_2000_2011' to 'TOTAL_20_1'\n",
      "  ogr_write(\n",
      "C:\\Users\\luisr\\anaconda3\\Lib\\site-packages\\pyogrio\\raw.py:723: RuntimeWarning: Normalized/laundered field name: 'TOTAL_2012_2021' to 'TOTAL_2012'\n",
      "  ogr_write(\n",
      "C:\\Users\\luisr\\anaconda3\\Lib\\site-packages\\pyogrio\\raw.py:723: RuntimeWarning: Normalized/laundered field name: 'RECORRENCIA_15' to 'RECORRENCI'\n",
      "  ogr_write(\n",
      "C:\\Users\\luisr\\anaconda3\\Lib\\site-packages\\pyogrio\\raw.py:723: RuntimeWarning: Normalized/laundered field name: 'RECORRENCIA_10' to 'RECORREN_1'\n",
      "  ogr_write(\n",
      "C:\\Users\\luisr\\anaconda3\\Lib\\site-packages\\pyogrio\\raw.py:723: RuntimeWarning: Normalized/laundered field name: 'RECORRENCIA_5' to 'RECORREN_2'\n",
      "  ogr_write(\n",
      "C:\\Users\\luisr\\anaconda3\\Lib\\site-packages\\pyogrio\\raw.py:723: RuntimeWarning: Normalized/laundered field name: 'RECORRENCIA_1' to 'RECORREN_3'\n",
      "  ogr_write(\n"
     ]
    }
   ],
   "source": [
    "import geopandas as gpd\n",
    "from shapely.wkt import loads\n",
    "\n",
    "# # Replace 'geometry' with the actual name of your geometry column\n",
    "# history_shape['geometry'] = history_shape['geometry'].apply(loads)\n",
    "\n",
    "# Now, convert the DataFrame to a GeoDataFrame\n",
    "gdf = gpd.GeoDataFrame(history_shape, geometry='geometry')\n",
    "\n",
    "# Replace 'output_shapefile.shp' with the desired output shapefile path\n",
    "shapefile_output_path = f'Resultados/histórico_conflitos_fronteira_atualizado_shape.shp'\n",
    "\n",
    "# Save the GeoDataFrame to a shapefile\n",
    "gdf.to_file(shapefile_output_path, driver='ESRI Shapefile')"
   ]
  },
  {
   "cell_type": "markdown",
   "id": "4ceaeec4-41f1-41fb-bfbf-6d2ed52bbb1e",
   "metadata": {},
   "source": [
    "#### Comprimir arquivos em arquivo shape zip final"
   ]
  },
  {
   "cell_type": "code",
   "execution_count": 21,
   "id": "246e3aaa-b5a1-4d70-9e46-bccbc140fc52",
   "metadata": {
    "tags": []
   },
   "outputs": [],
   "source": [
    "import os\n",
    "import zipfile\n",
    "\n",
    "output_folder = 'Resultados'\n",
    "base_shape_name = 'histórico_conflitos_fronteira_atualizado_shape'\n",
    "base_shape_path = f'{output_folder}/{base_shape_name}'\n",
    "output_zip_path = f'{base_shape_path}.zip'\n",
    "\n",
    "# List of filenames to include in the ZIP archive\n",
    "selected_files = [filename for filename in os.listdir(output_folder) if base_shape_name in filename]\n",
    "\n",
    "with zipfile.ZipFile(output_zip_path, 'w') as zipf:\n",
    "    for file in selected_files:\n",
    "        file_path = os.path.join(output_folder, file)\n",
    "        arcname = os.path.basename(file)  # Use only the filename in the archive\n",
    "        zipf.write(file_path, arcname=arcname)\n"
   ]
  },
  {
   "cell_type": "markdown",
   "id": "ab5102c8-7bb0-4492-8030-67e418d88387",
   "metadata": {},
   "source": [
    "#### Deletar arquivos provisórios"
   ]
  },
  {
   "cell_type": "code",
   "execution_count": 22,
   "id": "300dea32-fd50-4d40-84fd-6cf4809299b2",
   "metadata": {
    "tags": []
   },
   "outputs": [
    {
     "name": "stdout",
     "output_type": "stream",
     "text": [
      "Deleted: Resultados/histórico_conflitos_fronteira_atualizado_shape.cpg\n",
      "Deleted: Resultados/histórico_conflitos_fronteira_atualizado_shape.dbf\n",
      "Deleted: Resultados/histórico_conflitos_fronteira_atualizado_shape.prj\n",
      "Deleted: Resultados/histórico_conflitos_fronteira_atualizado_shape.shp\n",
      "Deleted: Resultados/histórico_conflitos_fronteira_atualizado_shape.shx\n"
     ]
    }
   ],
   "source": [
    "import os\n",
    "\n",
    "# List of files to delete\n",
    "files_to_delete = [f'{output_folder}/{filename}' for filename in selected_files]\n",
    "\n",
    "# Loop through the files and delete each one\n",
    "for file_path in files_to_delete:\n",
    "    try:\n",
    "        os.remove(file_path)  # Delete the file\n",
    "        print(f\"Deleted: {file_path}\")\n",
    "    except OSError as e:\n",
    "        print(f\"Error deleting {file_path}: {e}\")\n"
   ]
  },
  {
   "cell_type": "markdown",
   "id": "d25ab4ea-e318-4d89-95a2-8eda9b8d2246",
   "metadata": {},
   "source": [
    "---\n",
    "## Extra: Mapas cloropeth com contagem de conflitos por cidade"
   ]
  },
  {
   "cell_type": "code",
   "execution_count": 24,
   "id": "db85a88f-e727-4115-b3d6-069a4450525e",
   "metadata": {
    "tags": []
   },
   "outputs": [],
   "source": [
    "# Load your GeoDataFrame\n",
    "# gdf = gpd.read_file('path_to_your_dataset.geojson')  # Replace with the actual path\n",
    "gdf = gpd.GeoDataFrame(history_shape, geometry='geometry')\n",
    "\n",
    "# gdf['Total (2000-2021)'] = gdf.iloc[:, 11:].sum(axis=1)"
   ]
  },
  {
   "cell_type": "markdown",
   "id": "3c8854eb-f67b-4880-9409-4769f4d9fd76",
   "metadata": {},
   "source": [
    "### Mapa cloropeth com geopandas"
   ]
  },
  {
   "cell_type": "code",
   "execution_count": null,
   "id": "fde411c7-b05a-45d5-ac48-7d41370f4df0",
   "metadata": {
    "tags": []
   },
   "outputs": [],
   "source": [
    "import geopandas as gpd\n",
    "import matplotlib.pyplot as plt\n",
    "\n",
    "# Load your dataset\n",
    "# gdf = gpd.read_file('path_to_your_dataset.geojson')  # Replace with the actual path\n",
    "\n",
    "# Plot the choropleth map\n",
    "fig, ax = plt.subplots(1, 1, figsize=(10, 8))\n",
    "\n",
    "# Customize the plot appearance\n",
    "gdf.plot(column='Total (2000-2021)', cmap='YlOrRd', ax=ax, legend=True,\n",
    "         legend_kwds={'label': \"Legend Title\", 'orientation': \"vertical\"})\n",
    "ax.set_title('Choropleth Map')\n",
    "ax.set_axis_off()  # Turn off the axis\n",
    "\n",
    "# Add labels to the polygons\n",
    "# for idx, row in gdf.iterrows():\n",
    "#     ax.annotate(text=row['MUN'], xy=(row['geometry'].centroid.x, row['geometry'].centroid.y),\n",
    "#                 xytext=(3, 3), textcoords=\"offset points\", fontsize=5, color='black')\n",
    "\n",
    "plt.show()\n"
   ]
  },
  {
   "cell_type": "markdown",
   "id": "9fc2b4bd-5334-42a9-9f8b-1cfc29822465",
   "metadata": {},
   "source": [
    "### Mapas cloropeth com folium (Contagems por cidade por ano)"
   ]
  },
  {
   "cell_type": "code",
   "execution_count": null,
   "id": "26b389de-5934-42ed-a76c-0a5d7065522e",
   "metadata": {},
   "outputs": [],
   "source": [
    "import folium\n",
    "import geopandas as gpd\n",
    "\n",
    "def generate_choropleth_map(gdf, col, output_filename):\n",
    "    latitude, longitude = -14.2350, -51.9253\n",
    "\n",
    "    # Create a base map centered on a specific location\n",
    "    m = folium.Map(location=[latitude, longitude], zoom_start=4)\n",
    "\n",
    "    # Add choropleth layer to the map\n",
    "    choropleth = folium.Choropleth(\n",
    "        geo_data=gdf,\n",
    "        data=gdf,\n",
    "        columns=['id', col],  # Replace with the actual column names\n",
    "        key_on='feature.properties.id',  # Adjust to match the property in your GeoJSON\n",
    "        fill_color='YlOrRd',\n",
    "        fill_opacity=0.7,\n",
    "        line_opacity=0.2,\n",
    "        legend_name='Conflitos',\n",
    "        highlight=True  # Enable feature highlighting\n",
    "    ).add_to(m)\n",
    "\n",
    "    # Add tooltips to display information when hovering over features\n",
    "    choropleth.geojson.add_child(\n",
    "        folium.GeoJsonTooltip(fields=['id', col], aliases=['Cidade ID', f'Conflitos {col}'], labels=True)\n",
    "    )\n",
    "\n",
    "    # Save the map to an HTML file\n",
    "    m.save(output_filename)\n",
    "    print(col, 'Saved!')\n",
    "\n",
    "# Load your GeoDataFrame\n",
    "# gdf = gpd.GeoDataFrame(history_shape, geometry='geometry')\n",
    "\n",
    "cols = ['CONF' + str(year) for year in range(2000, 2022)] + ['Total (2000-2021)']\n",
    "for col in cols:\n",
    "    output_filename = f'Mapas/Anuais/interactive_choropleth_map_{col[4:]}.html'\n",
    "    generate_choropleth_map(gdf, col, output_filename)\n"
   ]
  },
  {
   "cell_type": "code",
   "execution_count": 134,
   "id": "54ca1e1d-e413-42c7-9786-5524e3814f5e",
   "metadata": {
    "tags": []
   },
   "outputs": [
    {
     "name": "stdout",
     "output_type": "stream",
     "text": [
      "CONF2000 Saved!\n",
      "CONF2001 Saved!\n",
      "CONF2002 Saved!\n",
      "CONF2003 Saved!\n",
      "CONF2004 Saved!\n",
      "CONF2005 Saved!\n",
      "CONF2006 Saved!\n",
      "CONF2007 Saved!\n",
      "CONF2008 Saved!\n",
      "CONF2009 Saved!\n",
      "CONF2010 Saved!\n",
      "CONF2011 Saved!\n",
      "CONF2012 Saved!\n",
      "CONF2013 Saved!\n",
      "CONF2014 Saved!\n",
      "CONF2015 Saved!\n",
      "CONF2016 Saved!\n",
      "CONF2017 Saved!\n",
      "CONF2018 Saved!\n",
      "CONF2019 Saved!\n",
      "CONF2020 Saved!\n",
      "CONF2021 Saved!\n",
      "Total (2000-2021) Saved!\n"
     ]
    }
   ],
   "source": [
    "import folium\n",
    "import geopandas as gpd\n",
    "\n",
    "# Load your GeoDataFrame\n",
    "# gdf = gpd.GeoDataFrame(history_shape, geometry='geometry')\n",
    "\n",
    "latitude, longitude = -14.2350, -51.9253\n",
    "\n",
    "cols = ['CONF' + str(year) for year in range(2000, 2022)] + ['Total (2000-2021)']\n",
    "for col in cols:\n",
    "\n",
    "    # Create a base map centered on a specific location\n",
    "    m = folium.Map(location=[latitude, longitude], zoom_start=4)\n",
    "\n",
    "    # Add choropleth layer to the map\n",
    "    choropleth = folium.Choropleth(\n",
    "        geo_data=gdf,\n",
    "        data=gdf,\n",
    "        columns=['id', col],  # Replace with the actual column names\n",
    "        key_on='feature.properties.id',  # Adjust to match the property in your GeoJSON\n",
    "        fill_color='YlOrRd',\n",
    "        fill_opacity=0.7,\n",
    "        line_opacity=0.2,\n",
    "        legend_name='Conflitos',\n",
    "        highlight=True  # Enable feature highlighting\n",
    "    ).add_to(m)\n",
    "\n",
    "    # Add tooltips to display information when hovering over features\n",
    "    choropleth.geojson.add_child(\n",
    "        folium.GeoJsonTooltip(fields=['id', col], aliases=['Cidade ID', f'Conflitos {col}'], labels=True)\n",
    "    )\n",
    "\n",
    "    # Display the map\n",
    "    m.save(f'Mapas/Anuais/interactive_choropleth_map_{col[4:]}.html')\n",
    "    print(col, 'Saved!')\n"
   ]
  },
  {
   "cell_type": "markdown",
   "id": "8cbac6bc-b451-47d6-8609-459e88109649",
   "metadata": {},
   "source": [
    "#### Mapa de variável categórica"
   ]
  },
  {
   "cell_type": "code",
   "execution_count": 91,
   "id": "12f0e1fc-e2ed-4781-ae48-fcee7b83d305",
   "metadata": {},
   "outputs": [],
   "source": [
    "# !pip install folium\n",
    "\n",
    "import folium\n",
    "import geopandas as gpd\n",
    "\n",
    "def recurrence_map(\n",
    "    source,\n",
    "    category_column='RECORRENCIA_10',\n",
    "    save_to='Mapas/mapa_recorrencia_teste.html',\n",
    "    latitude=-14.2350,\n",
    "    longitude=-51.9253,\n",
    "    zoom_level=5,\n",
    "    tiles='cartodbpositron',\n",
    "    colors = {\n",
    "        'PERMANENTE': 'darkred',       # High-stable conflicts\n",
    "        'EMERGENTE': 'darkorange',     # Increasing conflicts\n",
    "        'DESCENDENTE': 'gold',         # Declining conflicts\n",
    "        'INTERMITENTE': 'lightgray',       # Low-stable conflits\n",
    "        'INEXISTENTE': 'white',    # Zero conflits\n",
    "    },\n",
    "    style={\n",
    "        'color': 'darkslategray',  # Dark border color\n",
    "        'weight': 0.5,               # Thicker border\n",
    "        'fillOpacity': 0.7         # Adjust fill opacity\n",
    "    },\n",
    "    legend_html = \"\",\n",
    "):\n",
    "    # Load GeoPandas DataFrame\n",
    "    # gdf = gpd.read_file('your_geojson_file.geojson')\n",
    "    gdf = gpd.GeoDataFrame(source, geometry='geometry')\n",
    "    \n",
    "    # Create a Folium map centered on a location of your choice\n",
    "    m = folium.Map(\n",
    "        location=[latitude, longitude], \n",
    "        zoom_start=zoom_level, \n",
    "        tiles=tiles,\n",
    "        zoom_control=False  # Disable zoom control\n",
    "    )    \n",
    "    \n",
    "    # Create a legend\n",
    "    m.get_root().html.add_child(folium.Element(legend_html))\n",
    "    \n",
    "    # Iterate over unique categories in your DataFrame\n",
    "    for category in gdf[category_column].unique():\n",
    "        # Filter the GeoDataFrame for the current category\n",
    "        subset = gdf[gdf[category_column] == category]\n",
    "        \n",
    "        # Create a feature group for the current category\n",
    "        fg = folium.FeatureGroup(name=category)\n",
    "        \n",
    "        # Iterate over each row (city) in the subset\n",
    "        for idx, row in subset.iterrows():\n",
    "            # Create a GeoJSON representation of the city\n",
    "            geojson = row.geometry.__geo_interface__\n",
    "            \n",
    "            # Add the GeoJSON data to the feature group with a specified fill color and dark borders\n",
    "            folium.GeoJson(\n",
    "                geojson,\n",
    "                style_function=lambda x, fill_color=colors[category]: {\n",
    "                    'fillColor': fill_color,\n",
    "                    **style\n",
    "                },\n",
    "                tooltip=row['id']\n",
    "            ).add_to(fg)\n",
    "        \n",
    "        # Add the feature group to the map\n",
    "        fg.add_to(m)\n",
    "    \n",
    "    # Add layer control for categories\n",
    "    folium.LayerControl().add_to(m)\n",
    "    \n",
    "    # Save the map to an HTML file or display it\n",
    "    m.save(save_to)"
   ]
  },
  {
   "cell_type": "markdown",
   "id": "a167bda5-4383-4fce-8fd8-62519cf49d0a",
   "metadata": {},
   "source": [
    "### Generate Map for Recurrence Analysis"
   ]
  },
  {
   "cell_type": "code",
   "execution_count": 97,
   "id": "391a0e1a-3cfd-422e-8221-16537f10eb74",
   "metadata": {},
   "outputs": [],
   "source": [
    "recurrence_map(\n",
    "    source=history_shape,\n",
    "    category_column='RECORRENCIA_10',\n",
    "    save_to='Mapas/mapa_recorrencia_teste.html',\n",
    "    latitude=-14.2350,\n",
    "    longitude=-51.9253,\n",
    "    zoom_level=5,\n",
    "    tiles='cartodbpositron',\n",
    "    colors = {\n",
    "            'PERMANENTE': 'darkred',        # High-intensity conflicts\n",
    "            'EMERGENTE': 'darkorange',      # Emerging or increasing conflicts\n",
    "            'DESCENDENTE': 'gold',         # Stable or declining conflicts\n",
    "            'INTERMITENTE': 'lightgray', # Default color for undefined categories\n",
    "            'INEXISTENTE': 'white', # Default color for undefined categories\n",
    "    },\n",
    "    style={\n",
    "        'color': 'darkslategray',  # Dark border color\n",
    "        'weight': 0.3,               # Thicker border\n",
    "        'fillOpacity': 0.7         # Adjust fill opacity\n",
    "    },\n",
    "    legend_html = \"\"\"\n",
    "    <div style=\"font-size: 16px; max-width: 280px; height: 94%; position: fixed; top: 3%; left: 30px; background-color: white; border-radius: 5px; padding: 10px; z-index: 1000;\">\n",
    "        <p><strong>Classificação da Recorrência de Conflitos de Terra em Municípios da Faixa de Fronteira</strong></p>\n",
    "        <div style=\"margin-left: 10px;\">\n",
    "            <p><i class=\"fa fa-square\" style=\"background-color: darkred; color: darkred;\"></i> <strong>PERMANENTE</strong></p>\n",
    "            <p>Municípios que experimentaram conflitos de terra com mais de 10 ocorrências em cada uma das duas décadas: 2000-2010 e 2011-2021.</p>\n",
    "        </div>\n",
    "        <div style=\"margin-left: 10px;\">\n",
    "            <p><i class=\"fa fa-square\" style=\"background-color: darkorange; color: darkorange;\"></i> <strong>EMERGENTE</strong></p>\n",
    "            <p>Municípios que tiveram menos de 10 conflitos na década de 2000-2010, mas mais de 10 conflitos na década de 2011-2021.</p>\n",
    "        </div>\n",
    "        <div style=\"margin-left: 10px;\">\n",
    "            <p><i class=\"fa fa-square\" style=\"background-color: gold; color: gold;\"></i> <strong>DESCENDENTE</strong></p>\n",
    "            <p>Municípios que registraram mais de 10 conflitos na década de 2000-2010, mas menos de 10 conflitos na década de 2011-2021.</p>\n",
    "        </div>\n",
    "        <div style=\"margin-left: 10px;\">\n",
    "            <p><i class=\"fa fa-square\" style=\"background-color: lightgray; color: gray;\"></i> <strong>INTERMITENTE</strong></p>\n",
    "            <p>Municípios com menos de 10 conflitos em cada uma das duas décadas (2000-2010 e 2011-2021) e mais de 1 conflito em pelo menos uma década.</p>\n",
    "        </div>\n",
    "        <div style=\"margin-left: 10px;\">\n",
    "            <p><i class=\"fa fa-square\" style=\"background-color: white; color: white; border: 2px solid lightgray; border-radius: 3px;\"></i> <strong>INEXISTENTE</strong></p>\n",
    "            <p>Municípios com 0 conflitos em cada uma das duas décadas: 2000-2010 e 2011-2021.</p>\n",
    "        </div>\n",
    "    </div>\n",
    "    \"\"\",\n",
    ")"
   ]
  },
  {
   "cell_type": "code",
   "execution_count": null,
   "id": "a8cbe6b9-8a8f-4305-88e6-9e4935c1465d",
   "metadata": {},
   "outputs": [],
   "source": []
  }
 ],
 "metadata": {
  "kernelspec": {
   "display_name": "Python 3 (ipykernel)",
   "language": "python",
   "name": "python3"
  },
  "language_info": {
   "codemirror_mode": {
    "name": "ipython",
    "version": 3
   },
   "file_extension": ".py",
   "mimetype": "text/x-python",
   "name": "python",
   "nbconvert_exporter": "python",
   "pygments_lexer": "ipython3",
   "version": "3.11.7"
  }
 },
 "nbformat": 4,
 "nbformat_minor": 5
}
