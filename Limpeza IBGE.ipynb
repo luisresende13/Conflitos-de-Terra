{
 "cells": [
  {
   "cell_type": "markdown",
   "id": "df3b045e-006d-4bc5-afd5-778f4968f018",
   "metadata": {},
   "source": [
    "### Municípios de Fronteira - KML para Geojson"
   ]
  },
  {
   "cell_type": "code",
   "execution_count": null,
   "id": "ffbca108-bab3-4327-b392-b9525ab7ad64",
   "metadata": {},
   "outputs": [],
   "source": [
    "import geopandas as gpd\n",
    "\n",
    "# Load KML file (make sure the KML file is supported by fiona)\n",
    "gdf = gpd.read_file(\"Dados/IBGE/Municipios_da_Faixa_de_Fronteira_2022.kml\", driver='KML')\n",
    "\n",
    "# Save to GeoJSON\n",
    "gdf.to_file(\"Dados/IBGE/Limpeza/Municipios_da_Faixa_de_Fronteira_2022.geojson\", driver='GeoJSON')\n",
    "\n",
    "print(\"Conversion complete: KML to GeoJSON\")"
   ]
  },
  {
   "cell_type": "markdown",
   "id": "3b0289cf-4c4f-479d-bf3e-654d1ed4f1c9",
   "metadata": {},
   "source": [
    "### Faixa de Fronteira por UFF - KML para Geojson"
   ]
  },
  {
   "cell_type": "code",
   "execution_count": 1,
   "id": "e2c50e94-51de-4bc1-bbea-c1f3f2d8454d",
   "metadata": {},
   "outputs": [
    {
     "name": "stdout",
     "output_type": "stream",
     "text": [
      "Conversion complete: KML to GeoJSON\n"
     ]
    }
   ],
   "source": [
    "import geopandas as gpd\n",
    "\n",
    "# Load KML file (make sure the KML file is supported by fiona)\n",
    "gdf = gpd.read_file(\"Dados/IBGE/Faixa_de_Fronteira_por_UF_2022.kml\", driver='KML')\n",
    "\n",
    "# Save to GeoJSON\n",
    "gdf.to_file(\"Dados/IBGE/Limpeza/Faixa_de_Fronteira_por_UF_2022.geojson\", driver='GeoJSON')\n",
    "\n",
    "print(\"Conversion complete: KML to GeoJSON\")"
   ]
  },
  {
   "cell_type": "code",
   "execution_count": 1,
   "id": "348d632c-59c0-4c55-9848-d73373a56eff",
   "metadata": {},
   "outputs": [],
   "source": [
    "import geopandas as gpd\n",
    "\n",
    "gdf = gpd.read_file(\"Dados/IBGE/Limpeza/Municipios_da_Faixa_de_Fronteira_2022.geojson\")\n",
    "\n",
    "# gdf.plot()"
   ]
  },
  {
   "cell_type": "code",
   "execution_count": null,
   "id": "a88a6a64-63e4-411c-81b2-92fc2517845b",
   "metadata": {},
   "outputs": [],
   "source": [
    "gdf.plot()\n"
   ]
  }
 ],
 "metadata": {
  "kernelspec": {
   "display_name": "Python 3 (ipykernel)",
   "language": "python",
   "name": "python3"
  },
  "language_info": {
   "codemirror_mode": {
    "name": "ipython",
    "version": 3
   },
   "file_extension": ".py",
   "mimetype": "text/x-python",
   "name": "python",
   "nbconvert_exporter": "python",
   "pygments_lexer": "ipython3",
   "version": "3.11.7"
  }
 },
 "nbformat": 4,
 "nbformat_minor": 5
}
